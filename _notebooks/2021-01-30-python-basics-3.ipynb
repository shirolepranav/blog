{
 "cells": [
  {
   "cell_type": "markdown",
   "id": "34a07dbe",
   "metadata": {},
   "source": [
    "# Python Basics - Part 3\n",
    "\n",
    "> This is Part 3 of a Python tutorial for beginners.\n",
    "\n",
    "- toc: true\n",
    "- branch: master\n",
    "- badges: true\n",
    "- comments: true\n",
    "- categories: [python]"
   ]
  },
  {
   "cell_type": "markdown",
   "id": "22b1bc3b",
   "metadata": {},
   "source": [
    "This blog post is a continuation of the previous post *Python Basics - Part 2*.\n",
    "\n",
    "---\n",
    "### More on Functions\n",
    "\n",
    "We know that functions can have inputs, some functionality, and outputs. One thing to note is that functions are first-class objects, i.e. they can be passed around as arguments, just like `int`, `string`, `float`, etc. That means that you can take existing functions and build other functions that use the existing functions."
   ]
  },
  {
   "cell_type": "code",
   "execution_count": 2,
   "id": "9a745789",
   "metadata": {},
   "outputs": [],
   "source": [
    "# these are our existing functions\n",
    "\n",
    "def add(n1, n2):\n",
    "    return n1 + n2\n",
    "\n",
    "def subtract(n1, n2):\n",
    "    return n1 - n2\n",
    "\n",
    "def multiply(n1, n2):\n",
    "    return n1 * n2\n",
    "\n",
    "def divide(n1, n2):\n",
    "    return n1 / n2"
   ]
  },
  {
   "cell_type": "code",
   "execution_count": 3,
   "id": "64f2cd6b",
   "metadata": {},
   "outputs": [
    {
     "name": "stdout",
     "output_type": "stream",
     "text": [
      "13\n"
     ]
    }
   ],
   "source": [
    "# this is a new function\n",
    "\n",
    "def calculate(calc_function, n1, n2):\n",
    "    return calc_function(n1, n2)\n",
    "    \n",
    "result = calculate(add, 5, 8)\n",
    "print(result)"
   ]
  },
  {
   "cell_type": "code",
   "execution_count": 4,
   "id": "3818f481",
   "metadata": {},
   "outputs": [
    {
     "name": "stdout",
     "output_type": "stream",
     "text": [
      "40\n"
     ]
    }
   ],
   "source": [
    "result2 = calculate(multiply, 5, 8)\n",
    "print(result2)"
   ]
  },
  {
   "cell_type": "markdown",
   "id": "42fb2494",
   "metadata": {},
   "source": [
    "#### Nested Functions\n",
    "\n",
    "Functions can be nested inside other functions."
   ]
  },
  {
   "cell_type": "code",
   "execution_count": 6,
   "id": "b8d9e3c7",
   "metadata": {},
   "outputs": [
    {
     "name": "stdout",
     "output_type": "stream",
     "text": [
      "I'm outer\n",
      "I'm inner\n"
     ]
    }
   ],
   "source": [
    "def outer_function():\n",
    "    print(\"I'm outer\")\n",
    "    \n",
    "    def nested_function():\n",
    "        print(\"I'm inner\")\n",
    "    \n",
    "    nested_function()  # function being activated here\n",
    "\n",
    "outer_function()"
   ]
  },
  {
   "cell_type": "markdown",
   "id": "a02b250f",
   "metadata": {},
   "source": [
    "Functions can also be returned from other functions."
   ]
  },
  {
   "cell_type": "code",
   "execution_count": 8,
   "id": "a6199a45",
   "metadata": {},
   "outputs": [
    {
     "name": "stdout",
     "output_type": "stream",
     "text": [
      "I'm outer\n",
      "I'm inner\n"
     ]
    }
   ],
   "source": [
    "def outer_function():\n",
    "    print(\"I'm outer\")\n",
    "    \n",
    "    def nested_function():\n",
    "        print(\"I'm inner\")\n",
    "    \n",
    "    return nested_function  # function being returned here\n",
    "\n",
    "# set the function outer_function() to a variable called inner_function\n",
    "inner_function = outer_function()\n",
    "\n",
    "# activate the function inner_function()\n",
    "inner_function()"
   ]
  },
  {
   "cell_type": "markdown",
   "id": "0d4a60de",
   "metadata": {},
   "source": [
    "---\n",
    "### Decorators\n",
    "\n",
    "Let's imagine that you have a bunch of functions in your class or in your module, and you want to add some functionality to each of these functions. You can use a Decorator for this purpose. A Decorator function is a function that wraps another function and gives that function some additional functionality.\n",
    "\n",
    "> `def decorator_function(function):\n",
    "    def wrapper_function():\n",
    "        # do something before\n",
    "        function()  # you can also run function() multiple times\n",
    "        # do something after\n",
    "    return wrapper_function`\n",
    "    \n",
    "Let's say you want to create a simple function that prints a greeting, but with an added time delay."
   ]
  },
  {
   "cell_type": "code",
   "execution_count": 9,
   "id": "2ef1d1bb",
   "metadata": {},
   "outputs": [
    {
     "name": "stdout",
     "output_type": "stream",
     "text": [
      "Hello\n"
     ]
    }
   ],
   "source": [
    "import time\n",
    "\n",
    "def say_hello():\n",
    "    time.sleep(2)  # time delay of 2 seconds\n",
    "    print(\"Hello\")\n",
    "    \n",
    "say_hello()  # prints with a 2 second delay"
   ]
  },
  {
   "cell_type": "markdown",
   "id": "568c078b",
   "metadata": {},
   "source": [
    "Now let's imagine you wanted to add a time delay on several greetings. You would have to type in code to multiple places. This where the decorator comes in handy. Before we trigger the function that's passed in to the decorator function, we can add the delay. We can call the decorator in front of the function using the `@` sign."
   ]
  },
  {
   "cell_type": "code",
   "execution_count": 13,
   "id": "9a0a40cc",
   "metadata": {},
   "outputs": [],
   "source": [
    "import time\n",
    "\n",
    "def delay_decorator(function):\n",
    "    def wrapper_function():\n",
    "        time.sleep(2)\n",
    "        function()\n",
    "    return wrapper_function"
   ]
  },
  {
   "cell_type": "code",
   "execution_count": 19,
   "id": "a6b7439b",
   "metadata": {},
   "outputs": [
    {
     "name": "stdout",
     "output_type": "stream",
     "text": [
      "How are you?\n"
     ]
    }
   ],
   "source": [
    "@delay_decorator\n",
    "def say_hello():\n",
    "    print(\"Hello\")\n",
    "    \n",
    "@delay_decorator\n",
    "def say_bye():\n",
    "    print(\"Bye\")\n",
    "\n",
    "@delay_decorator\n",
    "def ask():\n",
    "    print(\"How are you?\")\n",
    "\n",
    "ask()  # prints with a 2 second delay"
   ]
  },
  {
   "cell_type": "markdown",
   "id": "1847575f",
   "metadata": {},
   "source": [
    "---\n",
    "### Asynchronous Programming\n",
    "\n",
    "Some operations take a long time, for e.g. web calls, network IO, complex data processing, etc. We don't want to stop everything just because one operation is taking a really long time. In synchronous programming, the methods are written to perform one task at a time. If a function depends on the other function's output, it has to wait to finish the execution of that function. Asynchronous programming also takes one execution at a time but the system may not wait to finish the execution to move on to the next step. It means the processor doesn't sit idle and the program will perform another task while the previous task hasn't finished and is still running elsewhere.  \n",
    "Python offers multiple options for managing long running operations; we're going to focus on a common scenario - web requests.  \n",
    "Since Python 3.4, there is the `asyncio` module that provides this capability."
   ]
  },
  {
   "cell_type": "code",
   "execution_count": null,
   "id": "8eab4db1",
   "metadata": {},
   "outputs": [],
   "source": [
    "async def load_data(session, delay):\n",
    "    async with session.get(f'https:httpbin.org/delay/{delay}') as resp:\n",
    "        await resp.text()"
   ]
  },
  {
   "cell_type": "markdown",
   "id": "08686e98",
   "metadata": {},
   "source": [
    "Below is a demo of synchronous programming:"
   ]
  },
  {
   "cell_type": "code",
   "execution_count": null,
   "id": "2b0b61a9",
   "metadata": {},
   "outputs": [],
   "source": [
    "from timeit import default_timer\n",
    "import requests\n",
    "\n",
    "def load_data(delay): # one parameter\n",
    "    print(f'Starting {delay} second timer')\n",
    "    # make get call\n",
    "    text = requests.get(f'https://httpbin.org/delay/{delay}').text\n",
    "    print(f'Completed {delay} second timer')\n",
    "    return text\n",
    "\n",
    "def run_demo():\n",
    "    start_time = default_timer()\n",
    "    \n",
    "    two_data = load_data(2) # 2 second delay\n",
    "    three_data = load_data(3) # 3 second delay\n",
    "    \n",
    "    elapsed_time = default_timer() - start_time\n",
    "    print(f'The operation took {elapsed_time:.2} seconds')\n",
    "    \n",
    "def main():\n",
    "        run_demo()\n",
    "        \n",
    "main()"
   ]
  },
  {
   "cell_type": "markdown",
   "id": "6d0e7fb7",
   "metadata": {},
   "source": [
    "The program started the 2 second delay, then it finished. Then, it started the 3 second delay, and finished. The operation took 7.8 seconds in total. The extra 2.8 seconds is how long it took to spin up and tear down the appropriate connections.\n",
    "\n",
    "Now let's try to use asynchronous programming:"
   ]
  },
  {
   "cell_type": "code",
   "execution_count": null,
   "id": "b8d15f38",
   "metadata": {},
   "outputs": [],
   "source": [
    "from timeit import default_timer\n",
    "import aiohttp\n",
    "import asyncio\n",
    "\n",
    "async def load_data(session, delay):\n",
    "    print(f'Starting {delay} second timer')\n",
    "    async with session.get(f'http://httpbin.org/delay/{delay}') as resp:\n",
    "        text = await resp.text()\n",
    "        print(f'Completed {delay} second timer')\n",
    "        return text\n",
    "\n",
    "async def main():\n",
    "    # Start the timer\n",
    "    start_time = default_timer()\n",
    "\n",
    "    # Creating a single session\n",
    "    async with aiohttp.ClientSession() as session:\n",
    "        # Setup our tasks and get them running\n",
    "        two_task = asyncio.create_task(load_data(session, 2))\n",
    "        three_task = asyncio.create_task(load_data(session, 3))\n",
    "\n",
    "        # Simulate other processing\n",
    "        await asyncio.sleep(1)\n",
    "        print('Doing other work')\n",
    "\n",
    "        # Let's go get our values\n",
    "        two_result = await two_task\n",
    "        three_result = await three_task\n",
    "\n",
    "        # Print our results\n",
    "        elapsed_time = default_timer() - start_time\n",
    "        print(f'The operation took {elapsed_time:.2} seconds')\n",
    "\n",
    "asyncio.run(main())"
   ]
  },
  {
   "cell_type": "markdown",
   "id": "89a58a70",
   "metadata": {},
   "source": [
    "We have created two tasks called `two_task` and `three_task`, using `create_task`. `load_data`, as the name suggests, loads data. Loading data takes a while and this is our task. While the data is being loaded, we can keep executing our code. Then, once you're ready to go get the answer of your task, you can grab that data using `await`. We have assigned the results to two variables. `await` is logically going to pause your code.  \n",
    "`load_data` calls an endpoint that pauses for x number of seconds; 2 and 3 in this case. If the program was running synchronously, it would have taken 5 seconds. It takes less time in our case. We have a 3 second delay so it takes at least that much time.  \n",
    "`async` is saying that in this construct, we're going to call `await`. Somebody else who is going to call this function can also await on whatever the operation is inside of here. If you're going to use `await`, it always has to be inside of an `async` construct."
   ]
  },
  {
   "cell_type": "markdown",
   "id": "cf425005",
   "metadata": {},
   "source": [
    "---\n",
    "### Modules and Packages\n",
    "You've created some functions and now you want to reuse them in your current application or maybe other applications. The way to do that is by using modules, and you can import modules in separate projects using packages.  \n",
    "A *module* is a Python file with functions, classes and other components, that are used to break down the code into reusable structures. Each module is responsible for a different bit of functionality in your program.\n",
    "\n",
    "#### Creating a module\n",
    "To create a module, all you need to do is to create a file and add in the appropriate code."
   ]
  },
  {
   "cell_type": "code",
   "execution_count": null,
   "id": "e1eff05b",
   "metadata": {},
   "outputs": [],
   "source": [
    "# Let's name the below Python file `helpers.py`\n",
    "\n",
    "# create a function named display\n",
    "def display(message, is_warning=False):\n",
    "    if is_warning:\n",
    "        print('Warning!')\n",
    "    print(message)"
   ]
  },
  {
   "cell_type": "markdown",
   "id": "a0bcd605",
   "metadata": {},
   "source": [
    "#### Using a module\n",
    "To be able to use a module, we need to import it. Let's look at different methods of doing that. You can either simply import the module, or import everything inside the module and make it globally available, or import specific items from the module."
   ]
  },
  {
   "cell_type": "code",
   "execution_count": null,
   "id": "0268fe7a",
   "metadata": {},
   "outputs": [],
   "source": [
    "# import module as namespace\n",
    "import helpers\n",
    "helpers.display('Not a warning')\n",
    "\n",
    "# import all into current namespace\n",
    "from helpers import *\n",
    "display('Not a warning')\n",
    "\n",
    "# import specific items into current namespace\n",
    "from helpers import display\n",
    "display('Not a warning')"
   ]
  },
  {
   "cell_type": "markdown",
   "id": "4b1ba2ac",
   "metadata": {},
   "source": [
    "#### Packages\n",
    "*Packages* are published collections of modules. Through packages, you can easily use modules that other people have created. Through experience and just using Python, you'll get to know about the available packages.  To find out what packages are available, you should just do an Internet search. You can also see a list of available packages in the [Python Package Index](https://pypi.org/) (PyPI). If you're about to do something that somebody else has already done, you should always search for packages first, since someone else probably had that problem and solved it.\n",
    "\n",
    "#### Installing packages\n",
    "`pip` is the command line installer for python.  \n",
    "You can install an individual package or a list of packages."
   ]
  },
  {
   "cell_type": "code",
   "execution_count": null,
   "id": "0bb45876",
   "metadata": {},
   "outputs": [],
   "source": [
    "# install and individual package\n",
    "pip install <package_name>"
   ]
  },
  {
   "cell_type": "markdown",
   "id": "8fa488d6",
   "metadata": {},
   "source": [
    "In order to install a list of packages, set them up inside of a text file, called `requirements.txt`, which is nothing but a text file with a list of all the packages you want to install. By default, the most updated versions of the packages will be installed."
   ]
  },
  {
   "cell_type": "code",
   "execution_count": null,
   "id": "6de56c58",
   "metadata": {},
   "outputs": [],
   "source": [
    "# requirements.txt\n",
    "package1\n",
    "package2\n",
    "package3"
   ]
  },
  {
   "cell_type": "code",
   "execution_count": null,
   "id": "f714876d",
   "metadata": {},
   "outputs": [],
   "source": [
    "# install from a list of packages\n",
    "pip install -r requirements.txt"
   ]
  },
  {
   "cell_type": "markdown",
   "id": "68bb72b5",
   "metadata": {},
   "source": [
    "---\n",
    "### Virtual Environments\n",
    "\n",
    "By default, packages are installed globally. This means that it is going to be available for every application you'll be creating. Due to this, version management becomes a challenge. As a best practice, when you're setting up your application, is to do a local install, and this is done inside a virtual environment.  \n",
    "A virtual environment is nothing but a folder that has all of the code you're going to need to run your application. It can be used to contain and manage package collections.\n",
    "\n",
    "#### Creating virtual environments\n",
    "Step 1: Make sure you install `virtualenv` globally."
   ]
  },
  {
   "cell_type": "code",
   "execution_count": null,
   "id": "9fb30105",
   "metadata": {},
   "outputs": [],
   "source": [
    "# install virtual environment\n",
    "pip install virtualenv"
   ]
  },
  {
   "cell_type": "markdown",
   "id": "db71cdbe",
   "metadata": {},
   "source": [
    "Step 2: Create the environment."
   ]
  },
  {
   "cell_type": "code",
   "execution_count": null,
   "id": "372c1393",
   "metadata": {},
   "outputs": [],
   "source": [
    "# windows system\n",
    "python -m venv <folder_name>\n",
    "\n",
    "# OSX / Linux (bash)\n",
    "virtualenv <folder_name>"
   ]
  },
  {
   "cell_type": "markdown",
   "id": "d4b14c96",
   "metadata": {},
   "source": [
    "#### Using virtual environments\n",
    "You'll need to activate the environment in order to use it."
   ]
  },
  {
   "cell_type": "code",
   "execution_count": null,
   "id": "4710fdd9",
   "metadata": {},
   "outputs": [],
   "source": [
    "# Windows system\n",
    "\n",
    "# cmd.exe\n",
    "<folder_name>\\Scripts\\Activate.bat\n",
    "\n",
    "# Powershell\n",
    "<folder_name>\\Scripts\\Activate.ps1\n",
    "\n",
    "# bash shell\n",
    "# first . is the location of source code \n",
    "# typically do this from current directory\n",
    ". ./<folder_name>/Scripts/activate\n",
    "\n",
    "\n",
    "# OSX/Linux (bash)\n",
    "<folder_name>/bin/activate"
   ]
  },
  {
   "cell_type": "markdown",
   "id": "7921cceb",
   "metadata": {},
   "source": [
    "---\n",
    "### Calling an API\n",
    "\n",
    "#### Web Service\n",
    "When developers want to share the functionality of a function but not the actual code in the program, they can place the function on a web server. A programmer with the address of that function on the web server and the required permissions can call the function. This is called a web service.\n",
    "\n",
    "#### API\n",
    "You can't call a function unless you know the function name and the required parameters. When you create a web service, you create an Application Programming Interface (API). The API defines the function names and parameters so others know how to call your function.\n",
    "\n",
    "Suppose you're a developer who sign up on my web site, or buys a license for my software, and is provided a unique key. When you call my web service, you provide your unique key, and I am able to verify whether the key has been approved for calls to my web service. Thus, **keys** allow developers to track which users have permissions to use a web service.  \n",
    "**Note: You should not put your API key in your code! It should not be visible to other people, otherwise somebody might use your key to call the API.**\n",
    "\n",
    "#### HTTP\n",
    "Hypertext Transfer Protocol (HTTP) is a standard protocol for sending messages across the web. There are two standard protocols we use for sending messages under HTTP. The API documentation usually mentions if you need a GET or POST call.\n",
    "- GET\n",
    "    - Pass values in query string only\n",
    "        - Special characters must be \"escaped\"\n",
    "        - Limited amount of data\n",
    "- POST\n",
    "    - Pass values in query string and body\n",
    "        - No need to escape special characters if passed in body\n",
    "        - Can pass large amounts of data, including images, in body\n",
    "        \n",
    "The **requests** library simplifies making a POST or GET call from Python code. All the parameters required to call the API are mentioned in the API documentation.  \n",
    "`requests.post(address, http_headers, function_parameters, message_body)`\n",
    "\n",
    "Learning how to call APIs unlocks functionality from developers and software companies all around the world, so it's very beneficial to know how to do that. Although API parameters and key requirements will vary, the documentation will provide all the information you need to call a specific API."
   ]
  },
  {
   "cell_type": "markdown",
   "id": "2455e813",
   "metadata": {},
   "source": [
    "---\n",
    "### JSON\n",
    "JSON is a standard data format that is used to pass data back and forth and many web services return data as JSON.  \n",
    "JSON contains key-value pairs. A key can also have subkeys that have their corresponding sub-values. A key can also have a list of values.  \n",
    "There are various JSON linting tools on the Internet that can be used to format and prettify the JSON output and make it easier to read.  \n",
    "\n",
    "First, import the JSON library.  \n",
    "To retrieve the value from a, request the key name:  \n",
    ">`{\"key\":\"value\"}`  \n",
    ">Suppose the results from your API were passed on to a variable called `results`.  \n",
    ">`\"requestId\":\"234gt84-asde-29384ugd\"`\n",
    ">`print(results['requestId'])`\n",
    "\n",
    "To request a value from a `{\"key\":{\"subkey0\":\"subvalue0, subkey1\":\"subvalue1\",...}}`, specify the key name and the subkey name:  \n",
    ">`print(results['key']['subkey0']`\n",
    "\n",
    "To retrieve a value from a `{\"key\":{[listvalue0:[value0, value1,...]], listvalue1:[value0, value1,...]],...]}}`, specify the keyname and index position of the value to retrieve:\n",
    "> `print(results['key']['listvalue0'][0])`  \n",
    "\n",
    "You can also use a loop to print out each item in the list.\n",
    "> `for item in results['key']['listvalue0']:\n",
    "    print(item)`"
   ]
  },
  {
   "cell_type": "markdown",
   "id": "e7e18a7b",
   "metadata": {},
   "source": [
    "#### Creating JSON\n"
   ]
  },
  {
   "cell_type": "code",
   "execution_count": 24,
   "id": "1f49d70d",
   "metadata": {},
   "outputs": [],
   "source": [
    "import json"
   ]
  },
  {
   "cell_type": "markdown",
   "id": "8d0733e6",
   "metadata": {},
   "source": [
    "\n",
    "You can use Python dictionaries to create `\"key\":\"value\"` JSON objects."
   ]
  },
  {
   "cell_type": "code",
   "execution_count": 22,
   "id": "287b3204",
   "metadata": {},
   "outputs": [
    {
     "name": "stdout",
     "output_type": "stream",
     "text": [
      "{'alias': 'Batman', 'first name': 'Bruce', 'last name': 'Wayne', 'city': 'Gotham'}\n"
     ]
    }
   ],
   "source": [
    "# create a dictionary object\n",
    "identity = {\n",
    "    'alias': 'Batman',\n",
    "    'first name': 'Bruce',\n",
    "    'last name': 'Wayne',\n",
    "}\n",
    "\n",
    "# add additional key pairs as needed\n",
    "identity['city'] = 'Gotham'\n",
    "\n",
    "print(identity)"
   ]
  },
  {
   "cell_type": "code",
   "execution_count": 23,
   "id": "525b9c19",
   "metadata": {},
   "outputs": [
    {
     "name": "stdout",
     "output_type": "stream",
     "text": [
      "{\"alias\": \"Batman\", \"first name\": \"Bruce\", \"last name\": \"Wayne\", \"city\": \"Gotham\"}\n"
     ]
    }
   ],
   "source": [
    "# convert dictionary to JSON object\n",
    "identity_json = json.dumps(identity)\n",
    "print(identity_json)"
   ]
  },
  {
   "cell_type": "markdown",
   "id": "8a289741",
   "metadata": {},
   "source": [
    "You can create nested dictionaries to create JSON in the format `{\"key\":{\"subkey0\":\"subvalue0\",\"subkey1\":\"subvalue1\",...}}`."
   ]
  },
  {
   "cell_type": "code",
   "execution_count": 17,
   "id": "9ae88b35",
   "metadata": {},
   "outputs": [
    {
     "name": "stdout",
     "output_type": "stream",
     "text": [
      "{\"dark knight\": {\"alias\": \"Batman\", \"first name\": \"Bruce\", \"last name\": \"Wayne\", \"city\": \"Gotham\"}}\n"
     ]
    }
   ],
   "source": [
    "identity = {\n",
    "    'alias': 'Batman',\n",
    "    'first name': 'Bruce',\n",
    "    'last name': 'Wayne',\n",
    "    'city': 'Gotham'\n",
    "}\n",
    "\n",
    "# create an empty dictionary\n",
    "role = {}\n",
    "\n",
    "# add a key to the role dictionary\n",
    "# and assign it to identity dictionary\n",
    "role['dark knight'] = identity\n",
    "\n",
    "# convert dictionary to JSON object\n",
    "role_json = json.dumps(role)\n",
    "print(role_json)"
   ]
  },
  {
   "cell_type": "markdown",
   "id": "02bdb647",
   "metadata": {},
   "source": [
    "You can add lists to dictionaries to create JSON in the format `{\"key\":{[listvalue0:[value0, value1,...]], listvalue1:[value0, value1,...]],...]}}`."
   ]
  },
  {
   "cell_type": "code",
   "execution_count": 18,
   "id": "a53af3c4",
   "metadata": {},
   "outputs": [
    {
     "name": "stdout",
     "output_type": "stream",
     "text": [
      "{\"alias\": \"Batman\", \"first name\": \"Bruce\", \"last name\": \"Wayne\", \"city\": \"Gotham\", \"enemies\": [\"Joker\", \"Riddler\", \"Bane\", \"Two-Face\", \"Scarecrow\", \"Penguin\"]}\n"
     ]
    }
   ],
   "source": [
    "# create a list of enemies\n",
    "enemies_list = ['Joker', 'Riddler', 'Bane',\n",
    "         'Two-Face', 'Scarecrow', 'Penguin']\n",
    "\n",
    "# add list to dictionary\n",
    "identity['enemies'] = enemies_list\n",
    "\n",
    "# convert dictionary to JSON object\n",
    "identity_json = json.dumps(identity)\n",
    "print(identity_json)"
   ]
  },
  {
   "cell_type": "markdown",
   "id": "7deac1e9",
   "metadata": {},
   "source": [
    "When creating and reading JSON\n",
    "- use print statements to help you debug.\n",
    "- use a JSON linting tool to make the JSON easier to read.\n",
    "- have a print out of the full JSON so you can figure out the structure when reading specific elements."
   ]
  },
  {
   "cell_type": "markdown",
   "id": "ae8c30fe",
   "metadata": {},
   "source": [
    "---"
   ]
  }
 ],
 "metadata": {
  "kernelspec": {
   "display_name": "Python 3 (ipykernel)",
   "language": "python",
   "name": "python3"
  },
  "language_info": {
   "codemirror_mode": {
    "name": "ipython",
    "version": 3
   },
   "file_extension": ".py",
   "mimetype": "text/x-python",
   "name": "python",
   "nbconvert_exporter": "python",
   "pygments_lexer": "ipython3",
   "version": "3.8.3"
  }
 },
 "nbformat": 4,
 "nbformat_minor": 5
}
