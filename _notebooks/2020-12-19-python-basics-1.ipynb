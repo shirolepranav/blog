{
 "cells": [
  {
   "cell_type": "markdown",
   "id": "923ff43c",
   "metadata": {},
   "source": [
    "# Python Basics - Part 1\n",
    "\n",
    "> This is Part 1 of a Python tutorial for beginners.\n",
    "\n",
    "- toc: true\n",
    "- branch: master\n",
    "- badges: true\n",
    "- comments: true\n",
    "- categories: [python]"
   ]
  },
  {
   "cell_type": "markdown",
   "id": "63f5faa5",
   "metadata": {},
   "source": [
    "As a self-taught Data Scientist and programmer, I always get asked about how I started my path towards learning, and a lot of non-coders ask me about how they can learn more about Data Science. And while I tell them about the umpteen Data Analytics and Data Visualization tools, various Machine Learning algorithms, and which Deep Learning frameworks to choose, it all starts with learning Python. Python is an interpreted high-level general-purpose programming language. In my view, Python is the best programming language to learn, in order to become a Data Scientist, owing to its readability, non-complexity, its large standard libraries, and its huge community.  \n",
    "I have been the beneficiary of several of books and YouTube tutorials that have helped me become a better Python Developer. This blog post is my way of giving back to the community. This might not be the best place to start learning how to code in Python. However, this blog post aims to be a good cheat sheet for beginners trying to look something up or if they want a refresher as to how certain objects perform."
   ]
  },
  {
   "cell_type": "markdown",
   "id": "f9ea4861",
   "metadata": {},
   "source": [
    "---\n",
    "### Display Output\n",
    "You can use the `print` function to display output to your console. You can use either single or double quotes; just make sure that you stick to one for consistency."
   ]
  },
  {
   "cell_type": "code",
   "execution_count": 1,
   "id": "83796fde",
   "metadata": {},
   "outputs": [
    {
     "name": "stdout",
     "output_type": "stream",
     "text": [
      "Hello, World!\n",
      "Python is great\n"
     ]
    }
   ],
   "source": [
    "print('Hello, World!')\n",
    "print(\"Python is great\")"
   ]
  },
  {
   "cell_type": "markdown",
   "id": "87975fdd",
   "metadata": {},
   "source": [
    "#### Displaying blank lines \n",
    "Blank lines make the output more readable. For a blank line, you can insert a `print` function with nothing inside. Each `print` function prints on a new line by default.  \n",
    "You can also use `\\n` (the newline character) to print a new line at the end of a string or right in the middle of a string."
   ]
  },
  {
   "cell_type": "code",
   "execution_count": 27,
   "id": "624fd357",
   "metadata": {},
   "outputs": [
    {
     "name": "stdout",
     "output_type": "stream",
     "text": [
      "Hello\n",
      "\n",
      "Above is a blank line\n",
      "\n",
      "Blank line \n",
      "in the middle of a string\n"
     ]
    }
   ],
   "source": [
    "print('Hello')\n",
    "print()\n",
    "print('Above is a blank line\\n')\n",
    "print('Blank line \\nin the middle of a string')"
   ]
  },
  {
   "cell_type": "markdown",
   "id": "e674c580",
   "metadata": {},
   "source": [
    "---\n",
    "### Getting information from the user\n",
    "You can use the `input` to ask for information from your user. We pass in a message with the `input` function."
   ]
  },
  {
   "cell_type": "code",
   "execution_count": 2,
   "id": "c905709d",
   "metadata": {},
   "outputs": [
    {
     "name": "stdout",
     "output_type": "stream",
     "text": [
      "What is your name? Pranav\n",
      "Pranav\n"
     ]
    }
   ],
   "source": [
    "name = input('What is your name? ')\n",
    "print(name)"
   ]
  },
  {
   "cell_type": "markdown",
   "id": "d45c54e6",
   "metadata": {},
   "source": [
    "Here, whatever value is typed in by the user will be stored in the variable `name` and can be used as needed. We've chosen to print the value of `name` on the screen."
   ]
  },
  {
   "cell_type": "markdown",
   "id": "638d0783",
   "metadata": {},
   "source": [
    "---\n",
    "### Comments\n",
    "Comments are a way of documenting your code. Comments can be added using `#`. These lines of code will not execute."
   ]
  },
  {
   "cell_type": "code",
   "execution_count": 4,
   "id": "4df090e0",
   "metadata": {},
   "outputs": [
    {
     "name": "stdout",
     "output_type": "stream",
     "text": [
      "How are you?\n"
     ]
    }
   ],
   "source": [
    "# print('Hello')\n",
    "# the above code of line will not execute\n",
    "# but the below one will \n",
    "print('How are you?')"
   ]
  },
  {
   "cell_type": "markdown",
   "id": "bc38bdfd",
   "metadata": {},
   "source": [
    "You can also use `'''  '''` for multi-line comments."
   ]
  },
  {
   "cell_type": "code",
   "execution_count": 5,
   "id": "eda2989a",
   "metadata": {},
   "outputs": [
    {
     "name": "stdout",
     "output_type": "stream",
     "text": [
      "Python\n"
     ]
    }
   ],
   "source": [
    "'''\n",
    "Python is an important\n",
    "programming language in\n",
    "your Data Science journey\n",
    "'''\n",
    "print('Python')"
   ]
  },
  {
   "cell_type": "markdown",
   "id": "99ed50fa",
   "metadata": {},
   "source": [
    "It's a good idea to write comments before your function explaining what that function does.  \n",
    "Commenting out lines can also help debug your code."
   ]
  },
  {
   "cell_type": "markdown",
   "id": "2bea2b7e",
   "metadata": {},
   "source": [
    "---\n",
    "### String concepts\n",
    "Strings can be stored in variables. Variables are just placeholders for some value inside our code."
   ]
  },
  {
   "cell_type": "code",
   "execution_count": 6,
   "id": "5762e781",
   "metadata": {},
   "outputs": [
    {
     "name": "stdout",
     "output_type": "stream",
     "text": [
      "Pranav\n"
     ]
    }
   ],
   "source": [
    "first_name = 'Pranav'\n",
    "print(first_name)"
   ]
  },
  {
   "cell_type": "markdown",
   "id": "efceb267",
   "metadata": {},
   "source": [
    "#### Concatenate strings\n",
    "You can combine strings with the `+` operator."
   ]
  },
  {
   "cell_type": "code",
   "execution_count": 7,
   "id": "3f8a83fb",
   "metadata": {},
   "outputs": [
    {
     "name": "stdout",
     "output_type": "stream",
     "text": [
      "JohnDoe\n",
      "Hello, John Doe\n"
     ]
    }
   ],
   "source": [
    "first_name = 'John'\n",
    "last_name = 'Doe'\n",
    "print(first_name + last_name)\n",
    "print('Hello, ' + first_name + ' ' + last_name)"
   ]
  },
  {
   "cell_type": "markdown",
   "id": "3ca40c42",
   "metadata": {},
   "source": [
    "#### Functions to modify strings\n",
    "Below we have used functions to \n",
    "- convert a string to uppercase \n",
    "- convert a string to lowercase\n",
    "- capitalize just the first word\n",
    "- count all of the instances of a particular string."
   ]
  },
  {
   "cell_type": "code",
   "execution_count": 8,
   "id": "c4efb88f",
   "metadata": {},
   "outputs": [
    {
     "name": "stdout",
     "output_type": "stream",
     "text": [
      "MY NAME IS JOHN DOE\n",
      "my name is john doe\n",
      "My name is john doe\n",
      "2\n"
     ]
    }
   ],
   "source": [
    "sentence = 'My name is John Doe'\n",
    "print(sentence.upper())\n",
    "print(sentence.lower())\n",
    "print(sentence.capitalize())\n",
    "print(sentence.count('o'))"
   ]
  },
  {
   "cell_type": "markdown",
   "id": "e9d1884b",
   "metadata": {},
   "source": [
    "You can use the escape character (backslash) `\\` to insert characters that are illegal in a string. An example of an illegal character is a single quote inside a string that is surrounded by single quotes."
   ]
  },
  {
   "cell_type": "code",
   "execution_count": 9,
   "id": "4bee6e00",
   "metadata": {},
   "outputs": [
    {
     "name": "stdout",
     "output_type": "stream",
     "text": [
      "What's your first name? JOHN\n",
      "What's is your last name? doe\n",
      "Hello, John Doe\n"
     ]
    }
   ],
   "source": [
    "first_name = input('What\\'s your first name? ')\n",
    "last_name = input('What\\'s is your last name? ')\n",
    "print('Hello, ' + first_name.capitalize() + \n",
    "     ' ' + last_name.capitalize())"
   ]
  },
  {
   "cell_type": "markdown",
   "id": "77c440f8",
   "metadata": {},
   "source": [
    "#### Custom string formatting\n",
    "To infuse things in strings dynamically, you can use string formatting. "
   ]
  },
  {
   "cell_type": "code",
   "execution_count": 11,
   "id": "8d5e1807",
   "metadata": {},
   "outputs": [],
   "source": [
    "first_name = 'John'\n",
    "last_name = 'Doe'"
   ]
  },
  {
   "cell_type": "markdown",
   "id": "c4813ec0",
   "metadata": {},
   "source": [
    "There are two ways you can do this:\n",
    "- formatting with `.format()` string method\n"
   ]
  },
  {
   "cell_type": "code",
   "execution_count": 12,
   "id": "8b52a111",
   "metadata": {},
   "outputs": [
    {
     "name": "stdout",
     "output_type": "stream",
     "text": [
      "Hello, John Doe\n"
     ]
    }
   ],
   "source": [
    "name = 'Hello, {} {}'.format(first_name, last_name)\n",
    "print(name)"
   ]
  },
  {
   "cell_type": "markdown",
   "id": "fb1ccf54",
   "metadata": {},
   "source": [
    "- formatting with string literals, called f-strings"
   ]
  },
  {
   "cell_type": "code",
   "execution_count": 13,
   "id": "3f12c7a3",
   "metadata": {},
   "outputs": [
    {
     "name": "stdout",
     "output_type": "stream",
     "text": [
      "Hello, John Doe\n"
     ]
    }
   ],
   "source": [
    "name = f'Hello, {first_name} {last_name}'\n",
    "print(name)"
   ]
  },
  {
   "cell_type": "markdown",
   "id": "baf2425d",
   "metadata": {},
   "source": [
    "---\n",
    "### Working with numbers\n",
    "Numbers can be stored in variables. Make sure the variables have meaningful names. We can pass those variables inside functions."
   ]
  },
  {
   "cell_type": "code",
   "execution_count": 1,
   "id": "8beee6aa",
   "metadata": {},
   "outputs": [
    {
     "name": "stdout",
     "output_type": "stream",
     "text": [
      "3.14159\n"
     ]
    }
   ],
   "source": [
    "pi = 3.14159\n",
    "print(pi)"
   ]
  },
  {
   "cell_type": "markdown",
   "id": "547713d8",
   "metadata": {},
   "source": [
    "#### Math with Numbers\n",
    "- `+` for addition\n",
    "- `-` for subtraction\n",
    "- `*` for multiplication\n",
    "- `/` for division\n",
    "- `**` for exponent"
   ]
  },
  {
   "cell_type": "code",
   "execution_count": 3,
   "id": "c501d7d1",
   "metadata": {},
   "outputs": [
    {
     "name": "stdout",
     "output_type": "stream",
     "text": [
      "14\n",
      "59049\n"
     ]
    }
   ],
   "source": [
    "num1 = 9\n",
    "num2 = 5\n",
    "print(num1 + num2)\n",
    "print(num1 ** num2)"
   ]
  },
  {
   "cell_type": "markdown",
   "id": "e82a1060",
   "metadata": {},
   "source": [
    "#### Type Conversion\n",
    "You cannot combine strings with numbers in Python. For e.g., executing the code below will result in an error:  \n"
   ]
  },
  {
   "cell_type": "code",
   "execution_count": 25,
   "id": "7fba02bc",
   "metadata": {},
   "outputs": [
    {
     "ename": "TypeError",
     "evalue": "unsupported operand type(s) for +: 'int' and 'str'",
     "output_type": "error",
     "traceback": [
      "\u001b[0;31m---------------------------------------------------------------------------\u001b[0m",
      "\u001b[0;31mTypeError\u001b[0m                                 Traceback (most recent call last)",
      "\u001b[0;32m<ipython-input-25-07fae050a6ec>\u001b[0m in \u001b[0;36m<module>\u001b[0;34m\u001b[0m\n\u001b[1;32m      1\u001b[0m \u001b[0mdays_in_Dec\u001b[0m \u001b[0;34m=\u001b[0m \u001b[0;36m31\u001b[0m\u001b[0;34m\u001b[0m\u001b[0;34m\u001b[0m\u001b[0m\n\u001b[0;32m----> 2\u001b[0;31m \u001b[0mprint\u001b[0m\u001b[0;34m(\u001b[0m\u001b[0mdays_in_Dec\u001b[0m \u001b[0;34m+\u001b[0m \u001b[0;34m' days in December'\u001b[0m\u001b[0;34m)\u001b[0m\u001b[0;34m\u001b[0m\u001b[0;34m\u001b[0m\u001b[0m\n\u001b[0m",
      "\u001b[0;31mTypeError\u001b[0m: unsupported operand type(s) for +: 'int' and 'str'"
     ]
    }
   ],
   "source": [
    "days_in_Dec = 31\n",
    "print(days_in_Dec + ' days in December')"
   ]
  },
  {
   "cell_type": "markdown",
   "id": "e53bd441",
   "metadata": {},
   "source": [
    "When displaying a string that contains numbers, you must convert the numbers into strings."
   ]
  },
  {
   "cell_type": "code",
   "execution_count": 4,
   "id": "da114b5f",
   "metadata": {},
   "outputs": [
    {
     "name": "stdout",
     "output_type": "stream",
     "text": [
      "31 days in December\n"
     ]
    }
   ],
   "source": [
    "days_in_Dec = 31 \n",
    "print(str(days_in_Dec) + ' days in December')"
   ]
  },
  {
   "cell_type": "markdown",
   "id": "043db847",
   "metadata": {},
   "source": [
    "Numbers can be stored as strings. However, numbers stored as strings are treated as strings."
   ]
  },
  {
   "cell_type": "code",
   "execution_count": 5,
   "id": "eca1197c",
   "metadata": {},
   "outputs": [
    {
     "name": "stdout",
     "output_type": "stream",
     "text": [
      "1020\n"
     ]
    }
   ],
   "source": [
    "num1 = '10'\n",
    "num2 = '20'\n",
    "print(num1 + num2)"
   ]
  },
  {
   "cell_type": "markdown",
   "id": "ca03b2c5",
   "metadata": {},
   "source": [
    "Also, the input function always returns a string."
   ]
  },
  {
   "cell_type": "code",
   "execution_count": 6,
   "id": "92261069",
   "metadata": {},
   "outputs": [
    {
     "name": "stdout",
     "output_type": "stream",
     "text": [
      "Enter the first number: 35\n",
      "Enter the second number:  75\n",
      "3575\n"
     ]
    }
   ],
   "source": [
    "num1 = input('Enter the first number: ')\n",
    "num2 = input('Enter the second number:  ')\n",
    "print(num1 + num2)"
   ]
  },
  {
   "cell_type": "markdown",
   "id": "23a3bde3",
   "metadata": {},
   "source": [
    "But here you can see that you have a number stored in a string. What if you want to treat it as a number and do math with it?  \n",
    "You can do another data type conversion. The `int` function will convert it to a whole number, while the `float` function will convert it into a floating point number that might have decimal places."
   ]
  },
  {
   "cell_type": "code",
   "execution_count": 7,
   "id": "db4d9bde",
   "metadata": {},
   "outputs": [
    {
     "name": "stdout",
     "output_type": "stream",
     "text": [
      "Enter the first number: 35\n",
      "Enter the second number:  75\n",
      "110\n",
      "110.0\n"
     ]
    }
   ],
   "source": [
    "num1 = input('Enter the first number: ')\n",
    "num2 = input('Enter the second number:  ')\n",
    "print(int(num1) + int(num2))\n",
    "print(float(num1) + float(num2))"
   ]
  },
  {
   "cell_type": "markdown",
   "id": "79310a79",
   "metadata": {},
   "source": [
    "---\n",
    "### Working with Dates\n",
    "We often need current date and time when logging errors and saving data. To get the current date and time, we need to use the `datetime` library."
   ]
  },
  {
   "cell_type": "code",
   "execution_count": 10,
   "id": "4c4b1da6",
   "metadata": {},
   "outputs": [
    {
     "name": "stdout",
     "output_type": "stream",
     "text": [
      "Today is: 2021-06-05 11:49:47.183898\n"
     ]
    }
   ],
   "source": [
    "from datetime import datetime\n",
    "\n",
    "# the now function returns a datetime object\n",
    "current_date = datetime.now()\n",
    "\n",
    "print('Today is: ' + str(current_date))"
   ]
  },
  {
   "cell_type": "markdown",
   "id": "cbc01714",
   "metadata": {},
   "source": [
    "There are a whole bunch of functions you can use with `datetime` objects to manipulate dates.  \n",
    "`timedelta` is used to define a period of time."
   ]
  },
  {
   "cell_type": "code",
   "execution_count": 13,
   "id": "31fd2b3c",
   "metadata": {},
   "outputs": [
    {
     "name": "stdout",
     "output_type": "stream",
     "text": [
      "Today is: 2021-06-05 12:01:31.236665\n",
      "Yesterday was: 2021-06-04 12:01:31.236665\n",
      "One week ago was: 2021-05-29 12:01:31.236665\n"
     ]
    }
   ],
   "source": [
    "from datetime import datetime, timedelta\n",
    "today = datetime.now()\n",
    "print('Today is: ' + str(today))\n",
    "\n",
    "one_day = timedelta(days=1)\n",
    "one_week = timedelta(weeks=1)\n",
    "yesterday = today - one_day\n",
    "past_week = today - one_week\n",
    "print('Yesterday was: ' + str(yesterday))\n",
    "print('One week ago was: ' + str(past_week))"
   ]
  },
  {
   "cell_type": "markdown",
   "id": "3145c0dc",
   "metadata": {},
   "source": [
    "You can also control the format of the date displayed on the screen. You can request just the day, month, year, hour, minutes and even seconds."
   ]
  },
  {
   "cell_type": "code",
   "execution_count": 14,
   "id": "3e8b9121",
   "metadata": {},
   "outputs": [
    {
     "name": "stdout",
     "output_type": "stream",
     "text": [
      "Day: 5\n",
      "Month: 6\n",
      "Year: 2021\n"
     ]
    }
   ],
   "source": [
    "print('Day: ' + str(current_date.day))\n",
    "print('Month: ' + str(current_date.month))\n",
    "print('Year: ' + str(current_date.year))"
   ]
  },
  {
   "cell_type": "markdown",
   "id": "2b35db5f",
   "metadata": {},
   "source": [
    "Sometimes, you can receive a date as a string, and you might need to store it as a date. You'll need to convert it to a `datetime` object."
   ]
  },
  {
   "cell_type": "code",
   "execution_count": 18,
   "id": "6fc80333",
   "metadata": {},
   "outputs": [
    {
     "name": "stdout",
     "output_type": "stream",
     "text": [
      "When is your birthday (dd/mm/yyyy)? 28/2/2000\n",
      "Birthday: 2000-02-28 00:00:00\n"
     ]
    }
   ],
   "source": [
    "birthday = input('When is your birthday (dd/mm/yyyy)? ')\n",
    "\n",
    "# the strptime function allows you to mention the \n",
    "# format in which you'll be receiving the date\n",
    "birthday_date = datetime.strptime(birthday, '%d/%m/%Y')\n",
    "print('Birthday: ' + str(birthday_date))"
   ]
  },
  {
   "cell_type": "markdown",
   "id": "6a7a4c4a",
   "metadata": {},
   "source": [
    "So what date was it three days before you were born?"
   ]
  },
  {
   "cell_type": "code",
   "execution_count": 19,
   "id": "01d0cc54",
   "metadata": {},
   "outputs": [
    {
     "name": "stdout",
     "output_type": "stream",
     "text": [
      "When is your birthday (dd/mm/yyyy)? 28/2/2000\n",
      "Birthday: 2000-02-28 00:00:00\n",
      "Date three days before birthday: 2000-02-25 00:00:00\n"
     ]
    }
   ],
   "source": [
    "birthday = input('When is your birthday (dd/mm/yyyy)? ')\n",
    "birthday_date = datetime.strptime(birthday, '%d/%m/%Y')\n",
    "print('Birthday: ' + str(birthday_date))\n",
    "three_days = timedelta(days=3)\n",
    "three_before = birthday_date - three_days\n",
    "print('Date three days before birthday: ' + str(three_before))"
   ]
  },
  {
   "cell_type": "markdown",
   "id": "122d76fb",
   "metadata": {},
   "source": [
    "---\n",
    "### Error Handling \n",
    "*Error handling* is when you have a problem with your code that is running, and its not something that you're going to be able to predict when you push your code to production. For e.g., permissions issue, database change, server being down, etc. Basically things that happen in the wild, which you have no control over.  \n",
    "*Debugging* is when you know that there's something wrong (a bug) with your code because you did something incorrectly, and you're going to have to go in and correct it.\n",
    "\n",
    "The following tools we're going to talk about are concerned with error handling. There are three types of errors:\n",
    "- syntax errors\n",
    "- runtime errors\n",
    "- logic errors\n",
    "\n"
   ]
  },
  {
   "cell_type": "markdown",
   "id": "b05b1dce",
   "metadata": {},
   "source": [
    "#### Syntax errors\n",
    "With syntax errors, your code is not going to run at all. This type of error is easiest to track down."
   ]
  },
  {
   "cell_type": "code",
   "execution_count": 23,
   "id": "480237c5",
   "metadata": {},
   "outputs": [
    {
     "ename": "SyntaxError",
     "evalue": "invalid syntax (<ipython-input-23-beb86a647368>, line 4)",
     "output_type": "error",
     "traceback": [
      "\u001b[0;36m  File \u001b[0;32m\"<ipython-input-23-beb86a647368>\"\u001b[0;36m, line \u001b[0;32m4\u001b[0m\n\u001b[0;31m    if x == y\u001b[0m\n\u001b[0m             ^\u001b[0m\n\u001b[0;31mSyntaxError\u001b[0m\u001b[0;31m:\u001b[0m invalid syntax\n"
     ]
    }
   ],
   "source": [
    "# this code won't run at all\n",
    "x = 35\n",
    "y = 75\n",
    "if x == y\n",
    "    print('x = y')"
   ]
  },
  {
   "cell_type": "markdown",
   "id": "c89b5b76",
   "metadata": {},
   "source": [
    "We're missing a colon after `y`, which is why we're getting the error above."
   ]
  },
  {
   "cell_type": "markdown",
   "id": "8ebe25f3",
   "metadata": {},
   "source": [
    "#### Runtime errors\n",
    "With runtime errors, your code will run, but it will fail when it encounters the error."
   ]
  },
  {
   "cell_type": "code",
   "execution_count": 24,
   "id": "c3e6beba",
   "metadata": {},
   "outputs": [
    {
     "ename": "ZeroDivisionError",
     "evalue": "division by zero",
     "output_type": "error",
     "traceback": [
      "\u001b[0;31m---------------------------------------------------------------------------\u001b[0m",
      "\u001b[0;31mZeroDivisionError\u001b[0m                         Traceback (most recent call last)",
      "\u001b[0;32m<ipython-input-24-8064a0e4bb6b>\u001b[0m in \u001b[0;36m<module>\u001b[0;34m\u001b[0m\n\u001b[1;32m      2\u001b[0m \u001b[0mx\u001b[0m \u001b[0;34m=\u001b[0m \u001b[0;36m5\u001b[0m\u001b[0;34m\u001b[0m\u001b[0;34m\u001b[0m\u001b[0m\n\u001b[1;32m      3\u001b[0m \u001b[0my\u001b[0m \u001b[0;34m=\u001b[0m \u001b[0;36m0\u001b[0m\u001b[0;34m\u001b[0m\u001b[0;34m\u001b[0m\u001b[0m\n\u001b[0;32m----> 4\u001b[0;31m \u001b[0mprint\u001b[0m\u001b[0;34m(\u001b[0m\u001b[0mx\u001b[0m \u001b[0;34m/\u001b[0m \u001b[0my\u001b[0m\u001b[0;34m)\u001b[0m\u001b[0;34m\u001b[0m\u001b[0;34m\u001b[0m\u001b[0m\n\u001b[0m",
      "\u001b[0;31mZeroDivisionError\u001b[0m: division by zero"
     ]
    }
   ],
   "source": [
    "# this code will fail when run\n",
    "x = 5\n",
    "y = 0\n",
    "print(x / y)"
   ]
  },
  {
   "cell_type": "markdown",
   "id": "8208852e",
   "metadata": {},
   "source": [
    "We're trying to divide by zero, which is not possible. Python tells you why you're getting the error and points towards the line which needs to be fixed. It's good practice to start from the line mentioned and work your way up to the error. Runtime errors can also be caused due to an error in the framework you're using, but the chances of that happening are extremely rare. Most probably, if you have a runtime error, it's because there's something wrong in your code."
   ]
  },
  {
   "cell_type": "markdown",
   "id": "3154ee2d",
   "metadata": {},
   "source": [
    "#### Catching runtime errors\n",
    "When a runtime error occurs, Python generates an exception during the execution and that can be handled, which avoids your program to interrupt.  \n",
    "Exception handling:\n",
    "- `try`: this block will test the excepted error to occur\n",
    "- `except`: here you can handle the error\n",
    "- `else`: if there is no exception, then this block will be executed\n",
    "- `finally`: finally block always gets executed whether exception is generated or not\n",
    "\n",
    "These tools are not used for finding bugs."
   ]
  },
  {
   "cell_type": "code",
   "execution_count": 30,
   "id": "4677beed",
   "metadata": {},
   "outputs": [
    {
     "name": "stdout",
     "output_type": "stream",
     "text": [
      "Sorry, something went wrong\n",
      "This line always runs, on success or failure\n"
     ]
    }
   ],
   "source": [
    "x = 5\n",
    "y = 0\n",
    "\n",
    "try:\n",
    "    print(x / y)\n",
    "except ZeroDivisionError as e:\n",
    "    print('Sorry, something went wrong')\n",
    "except:\n",
    "    print('Something really went wrong')\n",
    "finally:\n",
    "    print('This line always runs, on success or failure')"
   ]
  },
  {
   "cell_type": "markdown",
   "id": "43a9c257",
   "metadata": {},
   "source": [
    "#### Logic errors\n",
    "Logic errors occur when the code compiles properly, doesn't give any syntax or runtime errors, but it doesn't give you the response you're looking for."
   ]
  },
  {
   "cell_type": "code",
   "execution_count": 29,
   "id": "a1edfd6a",
   "metadata": {},
   "outputs": [],
   "source": [
    "# this code won't run at all\n",
    "x = 10\n",
    "y = 20\n",
    "if x > y:\n",
    "    print(str(x) + ' is less than ' + str(y))"
   ]
  },
  {
   "cell_type": "markdown",
   "id": "b4ee87a2",
   "metadata": {},
   "source": [
    "In the code above, `x` is less than `y`; but the `if` statement includes `x > y`, instead of `x < y`.\n",
    "\n",
    "When you're figuring out what went wrong with your code, just make sure that you reread your code. You can check the documentation and also search the internet on sites like StackOverflow and Medium."
   ]
  },
  {
   "cell_type": "markdown",
   "id": "3eb63052",
   "metadata": {},
   "source": [
    "---\n",
    "### Handling Conditions\n",
    "Your code might need the ability to take different actions based on different conditions. Below are the operations that you'll need for comparisons:\n",
    "- `>`: greater than\n",
    "- `<`: less than\n",
    "- `>=`: greater than or equal to\n",
    "- `<=`: less than or equal to\n",
    "- `==`: is equal to\n",
    "- `!=`: is not equal to\n",
    "\n",
    "#### if statement\n",
    "The `if` statement contains a logical expression using which the data is compared and a decision is made based on the result of the comparison."
   ]
  },
  {
   "cell_type": "code",
   "execution_count": 4,
   "id": "258cd8fd",
   "metadata": {},
   "outputs": [
    {
     "name": "stdout",
     "output_type": "stream",
     "text": [
      "0.3\n"
     ]
    }
   ],
   "source": [
    "price = 250.0\n",
    "\n",
    "if price >= 100.00:\n",
    "    tax = 0.3\n",
    "    print(tax)"
   ]
  },
  {
   "cell_type": "markdown",
   "id": "93324b57",
   "metadata": {},
   "source": [
    "#### if - else statement\n",
    "You can add a default action using `else`. An `else` statement contains the block of code that executes if the conditional expression in the `if` statement resolves to `0` or a `False` value."
   ]
  },
  {
   "cell_type": "code",
   "execution_count": 5,
   "id": "6fb7196f",
   "metadata": {},
   "outputs": [
    {
     "name": "stdout",
     "output_type": "stream",
     "text": [
      "0\n"
     ]
    }
   ],
   "source": [
    "price = 50\n",
    "\n",
    "if price >= 100.00:\n",
    "    tax = 0.3\n",
    "else:\n",
    "    tax = 0\n",
    "    \n",
    "print(tax)"
   ]
  },
  {
   "cell_type": "markdown",
   "id": "d08aae4c",
   "metadata": {},
   "source": [
    "Be careful when comparing strings. String comparisons are case sensitive."
   ]
  },
  {
   "cell_type": "code",
   "execution_count": 6,
   "id": "1ddef6d8",
   "metadata": {},
   "outputs": [
    {
     "name": "stdout",
     "output_type": "stream",
     "text": [
      "Hello\n"
     ]
    }
   ],
   "source": [
    "country = 'INDIA'\n",
    "if country == 'india':\n",
    "    print('Namaste')\n",
    "else:\n",
    "    print('Hello')"
   ]
  },
  {
   "cell_type": "code",
   "execution_count": 7,
   "id": "7d55bbae",
   "metadata": {},
   "outputs": [
    {
     "name": "stdout",
     "output_type": "stream",
     "text": [
      "Namaste\n"
     ]
    }
   ],
   "source": [
    "country = 'INDIA'\n",
    "if country.lower() == 'india':\n",
    "    print('Namaste')\n",
    "else:\n",
    "    print('Hello')"
   ]
  },
  {
   "cell_type": "markdown",
   "id": "093fe258",
   "metadata": {},
   "source": [
    "#### if - elif - else statement\n",
    "You may need to check multiple conditions to determine the correct action. The `elif` statement allows you to check multiple expressions for `True` and execute a block of cide as soon as one of the conditions evaluates to `True`."
   ]
  },
  {
   "cell_type": "code",
   "execution_count": 13,
   "id": "236bf1a8",
   "metadata": {},
   "outputs": [
    {
     "name": "stdout",
     "output_type": "stream",
     "text": [
      "Which state do you live in? Georgia\n",
      "5.75\n"
     ]
    }
   ],
   "source": [
    "# income tax percentage by state\n",
    "state = input('Which state do you live in? ')\n",
    "\n",
    "if state == 'Georgia':\n",
    "    tax = 5.75\n",
    "elif state == 'California':\n",
    "    tax = 13.3\n",
    "elif state == 'Texas' or state == 'Florida':\n",
    "    tax = 0.0\n",
    "else:\n",
    "    tax = 4.0\n",
    "\n",
    "print(tax)"
   ]
  },
  {
   "cell_type": "markdown",
   "id": "faddd59a",
   "metadata": {},
   "source": [
    "#### OR statements\n",
    "| first condition | second condition | evaluation |  \n",
    "|-----------------|------------------|------------|  \n",
    "|True             |True              |True        |  \n",
    "|True             |False             |True        |\n",
    "|False            |True              |True        | \n",
    "|False            |False             |False       |\n",
    "\n",
    "#### AND statements\n",
    "| first condition | second condition | evaluation |  \n",
    "|-----------------|------------------|------------|  \n",
    "|True             |True              |True        |  \n",
    "|True             |False             |False       |\n",
    "|False            |True              |False       | \n",
    "|False            |False             |False       |"
   ]
  },
  {
   "cell_type": "markdown",
   "id": "fabaac32",
   "metadata": {},
   "source": [
    "#### in operator\n",
    "If you have a list of possible values to check, you can use the `in` operator."
   ]
  },
  {
   "cell_type": "code",
   "execution_count": 14,
   "id": "0f1436a7",
   "metadata": {},
   "outputs": [
    {
     "name": "stdout",
     "output_type": "stream",
     "text": [
      "Which state do you live in? Alaska\n",
      "0.0\n"
     ]
    }
   ],
   "source": [
    "# income tax rates by state\n",
    "state = input('Which state do you live in? ')\n",
    "\n",
    "if state in ('Texas', 'Florida', 'Alaska',\n",
    "             'Wyoming', 'South Dakota'):\n",
    "    tax = 0.0\n",
    "elif state == 'California':\n",
    "    tax = 13.3\n",
    "elif state == 'Georgia':\n",
    "    tax = 5.75\n",
    "else:\n",
    "    tax = 4.0\n",
    "\n",
    "print(tax)"
   ]
  },
  {
   "cell_type": "markdown",
   "id": "28ee7de6",
   "metadata": {},
   "source": [
    "#### Nested if statement\n",
    "There may be a situation when you want to check for another condition after a condition resolves to `True`. If an action depends on a combination of conditions, you can nest `if` statements."
   ]
  },
  {
   "cell_type": "code",
   "execution_count": 1,
   "id": "48d439d8",
   "metadata": {},
   "outputs": [
    {
     "name": "stdout",
     "output_type": "stream",
     "text": [
      "What country do you live in? Canada\n",
      "What province/state do you live in? Ontario\n",
      "0.13\n"
     ]
    }
   ],
   "source": [
    "country = input(\"What country do you live in? \")\n",
    "\n",
    "if country.lower() == 'canada':\n",
    "    province = input(\"What province/state do you live in? \")\n",
    "    if province in('Alberta', 'Nunavut','Yukon'):\n",
    "        tax = 0.05\n",
    "    elif province == 'Ontario':\n",
    "        tax = 0.13\n",
    "    else:\n",
    "        tax = 0.15\n",
    "else:\n",
    "    tax = 0.0\n",
    "print(tax)"
   ]
  },
  {
   "cell_type": "markdown",
   "id": "20d00a97",
   "metadata": {},
   "source": [
    "Sometimes you can combine conditions with `and` instead of nested `if` statements.  \n",
    "Let's assume that you're trying to calculate which students in a college have made the honor roll. The requirements for making the honor roll are a minimum 85% GPA and maintaining all your grades at at least 70%. "
   ]
  },
  {
   "cell_type": "code",
   "execution_count": 2,
   "id": "37bc4f45",
   "metadata": {},
   "outputs": [
    {
     "name": "stdout",
     "output_type": "stream",
     "text": [
      "What's your GPA? 0.8\n",
      "What was your lowest grade? 0.75\n",
      "You're really stupid\n"
     ]
    }
   ],
   "source": [
    "# convert strings into float\n",
    "gpa = float(input('What\\'s your GPA? '))\n",
    "lowest_grade = float(input('What was your lowest grade? '))\n",
    "\n",
    "if gpa >= 0.85 and lowest_grade >= 0.7:\n",
    "    print('You made the honor roll')\n",
    "else:\n",
    "    print('You\\'re really stupid')"
   ]
  },
  {
   "cell_type": "markdown",
   "id": "1fa36d3c",
   "metadata": {},
   "source": [
    "If you have a very complicated `if` statement, rather than copying and pasting it in different parts of you code to do different things, we can remember what happened the last time we looked at the `if` statement with a Boolean variable."
   ]
  },
  {
   "cell_type": "code",
   "execution_count": 4,
   "id": "7e4b679e",
   "metadata": {},
   "outputs": [
    {
     "name": "stdout",
     "output_type": "stream",
     "text": [
      "What's your GPA? 0.9\n",
      "What was your lowest grade? 0.87\n",
      "You made the honor roll\n"
     ]
    }
   ],
   "source": [
    "gpa = float(input('What\\'s your GPA? '))\n",
    "lowest_grade = float(input('What was your lowest grade? '))\n",
    "\n",
    "if gpa >= 0.85 and lowest_grade >= 0.7:\n",
    "    honor_roll = True\n",
    "else:\n",
    "    honor_roll = False\n",
    "    \n",
    "''' Somewhere later in your code if you need\n",
    "to check if a student is on honor roll, all\n",
    "you need to do is check the boolean variable\n",
    "set earlier in the code'''\n",
    "if honor_roll:  # True by default\n",
    "    print('You made the honor roll')"
   ]
  },
  {
   "cell_type": "markdown",
   "id": "18e83b22",
   "metadata": {},
   "source": [
    "---\n",
    "### Collections\n",
    "\n",
    "####  Lists\n",
    "Lists are a collection of items."
   ]
  },
  {
   "cell_type": "code",
   "execution_count": 1,
   "id": "1cb4b974",
   "metadata": {},
   "outputs": [
    {
     "name": "stdout",
     "output_type": "stream",
     "text": [
      "['John', 'Will', 'Max']\n",
      "[90, 91]\n",
      "91\n"
     ]
    }
   ],
   "source": [
    "# prepopulate a list\n",
    "names = ['John', 'Will', 'Max']\n",
    "\n",
    "# start with an empty list\n",
    "scores = []\n",
    "# add new item to the end\n",
    "scores.append(90)\n",
    "scores.append(91)\n",
    "\n",
    "print(names)\n",
    "print(scores)\n",
    "\n",
    "# lists are zero-indexed\n",
    "print(scores[1])"
   ]
  },
  {
   "cell_type": "markdown",
   "id": "8104d545",
   "metadata": {},
   "source": [
    "You can get the number of items in a list using `len`."
   ]
  },
  {
   "cell_type": "code",
   "execution_count": 14,
   "id": "abb78b58",
   "metadata": {},
   "outputs": [
    {
     "name": "stdout",
     "output_type": "stream",
     "text": [
      "3\n"
     ]
    }
   ],
   "source": [
    "names = ['John', 'Will', 'Max']\n",
    "\n",
    "# get the number of items using len\n",
    "print(len(names))"
   ]
  },
  {
   "cell_type": "markdown",
   "id": "b7686b93",
   "metadata": {},
   "source": [
    "You can insert an item in a list using `insert`. This will insert the item at the specific index that you mention."
   ]
  },
  {
   "cell_type": "code",
   "execution_count": 15,
   "id": "d6971be8",
   "metadata": {},
   "outputs": [
    {
     "name": "stdout",
     "output_type": "stream",
     "text": [
      "['Bill', 'John', 'Will', 'Max']\n"
     ]
    }
   ],
   "source": [
    "# Bill will be inserted at index 0, i.e. the first item\n",
    "names.insert(0, 'Bill')\n",
    "print(names)"
   ]
  },
  {
   "cell_type": "markdown",
   "id": "3855315a",
   "metadata": {},
   "source": [
    "You can use `sort` to sort strings in alphabetical order. In case of numbers, it sorts them in the ascending order. Remember that using `sort` will modify the list!"
   ]
  },
  {
   "cell_type": "code",
   "execution_count": 16,
   "id": "d2e71bfa",
   "metadata": {},
   "outputs": [
    {
     "name": "stdout",
     "output_type": "stream",
     "text": [
      "['Bill', 'John', 'Max', 'Will']\n"
     ]
    }
   ],
   "source": [
    "names.sort()\n",
    "print(names)"
   ]
  },
  {
   "cell_type": "markdown",
   "id": "f0b8a846",
   "metadata": {},
   "source": [
    "You can retrieve a range within the list by indicating the start and end index; the end index being exclusive, i.e. it will not be included in the list."
   ]
  },
  {
   "cell_type": "code",
   "execution_count": 18,
   "id": "e17ef36c",
   "metadata": {},
   "outputs": [
    {
     "name": "stdout",
     "output_type": "stream",
     "text": [
      "['Amy', 'Susan', 'Jackie', 'Kylie', 'Ellen']\n",
      "['Susan', 'Jackie']\n",
      "['Amy', 'Susan', 'Jackie']\n",
      "['Kylie', 'Ellen']\n"
     ]
    }
   ],
   "source": [
    "names = ['Amy', 'Susan', 'Jackie', 'Kylie', 'Ellen']\n",
    "\n",
    "# start and end index\n",
    "presenters = names[1:3]\n",
    "\n",
    "# all names up to but not including index 3\n",
    "hosts = names[:3]\n",
    "\n",
    "# all names from 3 onwards, including index 3\n",
    "judges = names[3:]\n",
    "\n",
    "print(names)\n",
    "print(presenters)\n",
    "print(hosts)\n",
    "print(judges)"
   ]
  },
  {
   "cell_type": "markdown",
   "id": "3a559976",
   "metadata": {},
   "source": [
    "#### Arrays\n",
    "Arrays are a collection of numbered data types. Unlike a list, in order for you to use an array, you have to create an array object by importing it from the `array` library."
   ]
  },
  {
   "cell_type": "code",
   "execution_count": 2,
   "id": "8c12b4b7",
   "metadata": {},
   "outputs": [
    {
     "name": "stdout",
     "output_type": "stream",
     "text": [
      "array('d', [80.0, 81.0])\n",
      "80.0\n"
     ]
    }
   ],
   "source": [
    "from array import array\n",
    "\n",
    "# indicate the numerical type you'll use\n",
    "scores = array('d') # d indicates a double\n",
    "scores.append(80)\n",
    "scores.append(81)\n",
    "print(scores)\n",
    "print(scores[0])"
   ]
  },
  {
   "cell_type": "markdown",
   "id": "ac2731e0",
   "metadata": {},
   "source": [
    "So what's the difference between an array and a list?  \n",
    "Arrays are only numerical data types and everything inside the array must be of the same data type. They can help add extra structure to your code.  \n",
    "Lists can store anything you want, can store any data type, and can have mixed data types. They give more flexibility to your code."
   ]
  },
  {
   "cell_type": "markdown",
   "id": "2e75c8d4",
   "metadata": {},
   "source": [
    "#### Dictionaries\n",
    "Dictionaries give you the ability to put together a group of items; but instead of using numeric indexes, you can use key-value pairs."
   ]
  },
  {
   "cell_type": "code",
   "execution_count": 20,
   "id": "40c53e37",
   "metadata": {},
   "outputs": [
    {
     "name": "stdout",
     "output_type": "stream",
     "text": [
      "{'first': 'John', 'last': 'Wick'}\n",
      "John\n"
     ]
    }
   ],
   "source": [
    "person = {'first': 'John'}\n",
    "person['last'] = 'Wick'\n",
    "print(person)\n",
    "print(person['first'])"
   ]
  },
  {
   "cell_type": "code",
   "execution_count": 34,
   "id": "1132b2d8",
   "metadata": {},
   "outputs": [
    {
     "name": "stdout",
     "output_type": "stream",
     "text": [
      "{'Batman': 'Bruce Wayne', 'Superman': 'Clark Kent', 'Spiderman': 'Peter Parker', 'Iron Man': 'Tony Stark'}\n"
     ]
    }
   ],
   "source": [
    "identity = {\n",
    "    'Batman': 'Bruce Wayne',\n",
    "    'Superman': 'Clark Kent',\n",
    "    'Spiderman': 'Peter Parker',\n",
    "    'Iron Man': 'Tony Stark'\n",
    "}\n",
    "\n",
    "print(identity)"
   ]
  },
  {
   "cell_type": "markdown",
   "id": "6de46954",
   "metadata": {},
   "source": [
    "When to use a dictionary vs a list?\n",
    "It depends on whether you want to name things and whether you want items to be in a guaranteed order.  \n",
    "A dictionary will let you name key-value pairs but it does not guarantee you a specific order.  \n",
    "A list does guarantee you a specific order since it has a zero-based index."
   ]
  },
  {
   "cell_type": "markdown",
   "id": "1e586a89",
   "metadata": {},
   "source": [
    "---\n",
    "\n",
    "### Random Module\n",
    "\n",
    "One way to introduce random numbers in your code is to use the `random` module.  \n",
    "First you need to import the `random` module."
   ]
  },
  {
   "cell_type": "code",
   "execution_count": 21,
   "id": "50ea1d8d",
   "metadata": {},
   "outputs": [
    {
     "name": "stdout",
     "output_type": "stream",
     "text": [
      "12\n"
     ]
    }
   ],
   "source": [
    "import random\n",
    "\n",
    "# generate a random whole number between 1 and 50\n",
    "# inclusive of 1 and 50\n",
    "random_integer = random.randint(1, 50)\n",
    "print(random_integer)"
   ]
  },
  {
   "cell_type": "code",
   "execution_count": 23,
   "id": "410d7242",
   "metadata": {},
   "outputs": [
    {
     "name": "stdout",
     "output_type": "stream",
     "text": [
      "0.6343084141143187\n",
      "3.1715420705715935\n"
     ]
    }
   ],
   "source": [
    "# generate a random floating point number between 0.0 and 1.0\n",
    "# exclusive of 1.0 \n",
    "random_float = random.random()\n",
    "print(random_float)\n",
    "\n",
    "# generate a random floating point number between 0.0 and 5.0\n",
    "print(random_float * 5)"
   ]
  },
  {
   "cell_type": "markdown",
   "id": "00512d1e",
   "metadata": {},
   "source": [
    "There are so many more methods to the `random` module and you can check out the Python documentation to find out about all the things you can do with this module."
   ]
  },
  {
   "cell_type": "markdown",
   "id": "e33dfdd4",
   "metadata": {},
   "source": [
    "---\n",
    "### Loops\n",
    "\n",
    "Loops are a concept that is used when you need to have things happening over and over again.\n",
    "\n",
    "#### for loops\n",
    "`for` loops are used to loop through a collection. With a `for` loop, you can go through each item in a list and perform some action with each individual item in the list.\n",
    "\n",
    "> `for item in list_of_items:\n",
    "    # do something to each item`"
   ]
  },
  {
   "cell_type": "code",
   "execution_count": 28,
   "id": "cd6e0c31",
   "metadata": {},
   "outputs": [
    {
     "name": "stdout",
     "output_type": "stream",
     "text": [
      "John\n",
      "Will\n",
      "Max\n"
     ]
    }
   ],
   "source": [
    "# go through the list of names\n",
    "for name in ['John', 'Will', 'Max']:\n",
    "    print(name)"
   ]
  },
  {
   "cell_type": "code",
   "execution_count": 2,
   "id": "123ace9d",
   "metadata": {},
   "outputs": [
    {
     "name": "stdout",
     "output_type": "stream",
     "text": [
      "lion is a wildcat.\n",
      "tiger is a wildcat.\n",
      "puma is a wildcat.\n",
      "jaguar is a wildcat.\n",
      "cheetah is a wildcat.\n",
      "leopard is a wildcat.\n"
     ]
    }
   ],
   "source": [
    "wildcats = ['lion', 'tiger', 'puma', 'jaguar', 'cheetah', 'leopard']\n",
    "for wildcat in wildcats:\n",
    "    print(wildcat + ' is a wildcat.')"
   ]
  },
  {
   "cell_type": "markdown",
   "id": "c246b332",
   "metadata": {},
   "source": [
    "You can loop a particular number of times using `range`. `range` automatically creates a list of numbers for you. Remember that for the `range` function, the end index is exclusive.\n",
    "\n",
    "> `for number in range(a, b):\n",
    "    # do something\n",
    "    print(number)`"
   ]
  },
  {
   "cell_type": "code",
   "execution_count": 35,
   "id": "112f7981",
   "metadata": {},
   "outputs": [
    {
     "name": "stdout",
     "output_type": "stream",
     "text": [
      "0\n",
      "1\n",
      "2\n",
      "3\n",
      "4\n"
     ]
    }
   ],
   "source": [
    "# end index is exclusive\n",
    "for index in range(0, 5):\n",
    "    print(index)"
   ]
  },
  {
   "cell_type": "markdown",
   "id": "c2596b7d",
   "metadata": {},
   "source": [
    "If you want the range to increase by any other number, you can add a step to the function after the starting and ending indices."
   ]
  },
  {
   "cell_type": "code",
   "execution_count": 17,
   "id": "41c70b99",
   "metadata": {},
   "outputs": [
    {
     "name": "stdout",
     "output_type": "stream",
     "text": [
      "0\n",
      "3\n",
      "6\n",
      "9\n",
      "12\n"
     ]
    }
   ],
   "source": [
    "for index in range(0, 15, 3):\n",
    "    print(index)"
   ]
  },
  {
   "cell_type": "markdown",
   "id": "90040b7f",
   "metadata": {},
   "source": [
    "#### while loop\n",
    "`while` loops are used to loop with a condition. As long as something is `True`, the code will stay inside of the `while` loop i.e. the loop will continue going while the condition is true. You need to make sure that at some point you change the condition and it must result to `False`; otherwise the program will be stuck in an infinite loop, resulting in an error.\n",
    "\n",
    "> `while something_is_true:\n",
    "    # do something repeatedly`"
   ]
  },
  {
   "cell_type": "code",
   "execution_count": 9,
   "id": "7ac1a483",
   "metadata": {},
   "outputs": [
    {
     "name": "stdout",
     "output_type": "stream",
     "text": [
      "John\n",
      "1\n",
      "Will\n",
      "2\n",
      "Max\n",
      "3\n"
     ]
    }
   ],
   "source": [
    "names = ['John', 'Will', 'Max']\n",
    "index = 0\n",
    "while index < len(names):\n",
    "    print(names[index])\n",
    "    # change the condition\n",
    "    index += 1\n",
    "    print(index)"
   ]
  },
  {
   "cell_type": "code",
   "execution_count": 14,
   "id": "e14bd523",
   "metadata": {},
   "outputs": [
    {
     "name": "stdout",
     "output_type": "stream",
     "text": [
      "This is an example of a while loop.\n",
      "This is another example of a while loop.\n"
     ]
    }
   ],
   "source": [
    "x = True\n",
    "while x:\n",
    "    print('This is an example of a while loop.')\n",
    "    # change the condition\n",
    "    x = False\n",
    "    \n",
    "while not x:\n",
    "    print('This is another example of a while loop.')\n",
    "    x = True"
   ]
  },
  {
   "cell_type": "markdown",
   "id": "d9c7f5c0",
   "metadata": {},
   "source": [
    "`for` loops are great when you want to iterate over something and you need to do something with each thing that you're iterating over. In cases like above, when you have a list, you almost always want use a `for` loop.  \n",
    "\n",
    "`while` loops are useful when you don't care about the number in the sequence or about the item you're iterating through in a list, and you just simply want to carry out a functionality many times until a condition is met. You want to typically use a `while` loop when something is going to change automatically, e.g. when you need to read through a list of lines in a file, skip every alternate line, or if you're looking for something.  \n",
    "`while` loops are more dangerous because they can lead to infinite loops if the condition is not met."
   ]
  },
  {
   "cell_type": "markdown",
   "id": "60b5de8b",
   "metadata": {},
   "source": [
    "---\n",
    "### Functions\n",
    "A function is a block of organized, reusable code that is used to perform a single, related action. Function provide better modularity for your application and a high degree of code reusing, e.g. the `print()` function. You can create your own functions, called *user-defined functions*.  \n",
    "Programming is all about copying and pasting code from one place to another. If you find yourself copying and pasting the exact same lines of code to more places in your program, you should probably move that into a function.  \n",
    "Functions must be declared before the line of code where the function is called.  \n",
    "\n",
    "**Defining Functions**  \n",
    "> `def my_function():\n",
    "    # do this\n",
    "    # then do this\n",
    "    # finally do this`\n",
    "    \n",
    "**Calling Functions**  \n",
    "> `my_function()`\n",
    "\n"
   ]
  },
  {
   "cell_type": "markdown",
   "id": "90ec28bd",
   "metadata": {},
   "source": [
    "#### Functions with Inputs\n",
    "\n",
    "The input to a function is something that can be passed over when we call the function.\n",
    "\n",
    "> `def my_function(something):\n",
    "    # do this with something\n",
    "    # then do this\n",
    "    # finally do this`\n",
    "    \n",
    "> `my_function(123)`"
   ]
  },
  {
   "cell_type": "markdown",
   "id": "5f910c3a",
   "metadata": {},
   "source": [
    "#### Functions with Outputs\n",
    "\n",
    "The output keyword for a function is `return`. The `return` line must be the last line of the function. You can have multiple return keywords or even a blank return keyword in a function."
   ]
  },
  {
   "cell_type": "code",
   "execution_count": 1,
   "id": "0fd7e1fd",
   "metadata": {},
   "outputs": [
    {
     "data": {
      "text/plain": [
       "20"
      ]
     },
     "execution_count": 1,
     "metadata": {},
     "output_type": "execute_result"
    }
   ],
   "source": [
    "def my_function():\n",
    "    result = 5 * 4\n",
    "    return result\n",
    "\n",
    "my_function()"
   ]
  },
  {
   "cell_type": "markdown",
   "id": "81c76314",
   "metadata": {},
   "source": [
    "When you call a function that has an output, the returned output is what replaces the function call, and the output can be stored as a variable."
   ]
  },
  {
   "cell_type": "code",
   "execution_count": 2,
   "id": "3a4c8c71",
   "metadata": {},
   "outputs": [
    {
     "name": "stdout",
     "output_type": "stream",
     "text": [
      "40\n"
     ]
    }
   ],
   "source": [
    "def my_function():\n",
    "    return 5 * 8\n",
    "\n",
    "output = my_function()\n",
    "print(output)"
   ]
  },
  {
   "cell_type": "markdown",
   "id": "7c5802bb",
   "metadata": {},
   "source": [
    "Imagine that you're trying to figure out why your program is taking a long time to run. So you write some print statements inside your code to tell you what time it is when the code is running, so you can see what time it is at different stages when your code is running."
   ]
  },
  {
   "cell_type": "code",
   "execution_count": 40,
   "id": "539361fc",
   "metadata": {},
   "outputs": [
    {
     "name": "stdout",
     "output_type": "stream",
     "text": [
      "task completed\n",
      "2021-06-07 13:58:13.113387\n",
      "\n",
      "0\n",
      "1\n",
      "2\n",
      "3\n",
      "4\n",
      "5\n",
      "6\n",
      "7\n",
      "8\n",
      "9\n",
      "task completed\n",
      "2021-06-07 13:58:13.115614\n",
      "\n"
     ]
    }
   ],
   "source": [
    "import datetime\n",
    "\n",
    "# print timestamps to see how long\n",
    "# sections take to run\n",
    "\n",
    "first_name = 'John'\n",
    "print('task completed')\n",
    "print(datetime.datetime.now())\n",
    "print()\n",
    "\n",
    "for x in range(0, 10):\n",
    "    print(x)\n",
    "print('task completed')\n",
    "print(datetime.datetime.now())\n",
    "print()"
   ]
  },
  {
   "cell_type": "markdown",
   "id": "39d97d7e",
   "metadata": {},
   "source": [
    "The above code can be rewritten using a function. You can define the function using `def` keyword, followed by the name of the function, and then a colon (`:`). Remember to use indentation which determines what code belongs to that function."
   ]
  },
  {
   "cell_type": "code",
   "execution_count": 43,
   "id": "f1b08ce8",
   "metadata": {},
   "outputs": [
    {
     "name": "stdout",
     "output_type": "stream",
     "text": [
      "task completed\n",
      "2021-06-07 14:11:40.583077\n",
      "\n",
      "0\n",
      "1\n",
      "2\n",
      "3\n",
      "4\n",
      "5\n",
      "6\n",
      "7\n",
      "8\n",
      "9\n",
      "task completed\n",
      "2021-06-07 14:11:40.589036\n",
      "\n"
     ]
    }
   ],
   "source": [
    "# import datetime class from datetime library\n",
    "from datetime import datetime\n",
    "\n",
    "# print the current time\n",
    "def print_time():\n",
    "    print('task completed')\n",
    "    # no need for the extra datetime prefix\n",
    "    # since the class is imported above\n",
    "    print(datetime.now()) \n",
    "    print()\n",
    "    \n",
    "first_name = 'John'\n",
    "print_time()\n",
    "\n",
    "for x in range(0, 10):\n",
    "    print(x)\n",
    "print_time()"
   ]
  },
  {
   "cell_type": "markdown",
   "id": "9e1da93a",
   "metadata": {},
   "source": [
    "Sometimes when you copy/paste your code, we want to change some part of it. In the above example, what if you want to display a different message each time you run it. Say you want to display a specific message depending on the command you were running. This is where function parameters come in. *Parameters* or *arguments* are placed or defined within the parentheses of a function."
   ]
  },
  {
   "cell_type": "code",
   "execution_count": 44,
   "id": "b6822f8a",
   "metadata": {
    "scrolled": true
   },
   "outputs": [
    {
     "name": "stdout",
     "output_type": "stream",
     "text": [
      "first name assigned\n",
      "2021-06-07 16:07:57.077250\n",
      "\n",
      "0\n",
      "1\n",
      "2\n",
      "3\n",
      "4\n",
      "5\n",
      "6\n",
      "7\n",
      "8\n",
      "9\n",
      "loop completed\n",
      "2021-06-07 16:07:57.079687\n",
      "\n"
     ]
    }
   ],
   "source": [
    "from datetime import datetime\n",
    "\n",
    "# print the current time and task name\n",
    "def print_time(task_name):\n",
    "    print(task_name)\n",
    "    print(datetime.now())\n",
    "    print()\n",
    "    \n",
    "first_name = 'John'\n",
    "# pass in the task_name as a parameter\n",
    "print_time('first name assigned')\n",
    "\n",
    "for x in range(0, 10):\n",
    "    print(x)\n",
    "# pass in the task_name as a parameter\n",
    "print_time('loop completed')"
   ]
  },
  {
   "cell_type": "markdown",
   "id": "aef08557",
   "metadata": {},
   "source": [
    "Let's take another example where the code looks different but we're using the same logic. Suppose you're interested in getting initials for a user ID after the user enters their name."
   ]
  },
  {
   "cell_type": "code",
   "execution_count": 47,
   "id": "4de3fcce",
   "metadata": {},
   "outputs": [
    {
     "name": "stdout",
     "output_type": "stream",
     "text": [
      "Enter your first name: John \n",
      "Enter your last name: Wick\n",
      "Your initials are: JW\n"
     ]
    }
   ],
   "source": [
    "first_name = input('Enter your first name: ')\n",
    "# get only the first letter of input\n",
    "first_name_initial = first_name[0:1]\n",
    "\n",
    "last_name = input('Enter your last name: ')\n",
    "last_name_initial = last_name[0:1]\n",
    "\n",
    "print('Your initials are: ' + first_name_initial + last_name_initial)"
   ]
  },
  {
   "cell_type": "markdown",
   "id": "3bb15b84",
   "metadata": {},
   "source": [
    "The above code can be written using a function."
   ]
  },
  {
   "cell_type": "code",
   "execution_count": 54,
   "id": "77725c54",
   "metadata": {},
   "outputs": [
    {
     "name": "stdout",
     "output_type": "stream",
     "text": [
      "Enter your first name: john\n",
      "Enter your last name: wick\n",
      "Your initials are: jw\n"
     ]
    }
   ],
   "source": [
    "def get_initial(name):\n",
    "    initial = name[0:1]\n",
    "    # the return function returns a value\n",
    "    return initial\n",
    "\n",
    "first_name = input('Enter your first name: ')\n",
    "first_name_initial = get_initial(first_name)\n",
    "\n",
    "last_name = input('Enter your last name: ')\n",
    "last_name_initial = get_initial(last_name)\n",
    "\n",
    "# nested function in another call\n",
    "print('Your initials are: ' + get_initial(first_name) + \n",
    "      get_initial(last_name))"
   ]
  },
  {
   "cell_type": "markdown",
   "id": "ccbc92dd",
   "metadata": {},
   "source": [
    "Functions can accept multiple parameters. In the above example, suppose you want to the user initials to only be uppercase for a user ID but lowercase for an email ID."
   ]
  },
  {
   "cell_type": "code",
   "execution_count": 56,
   "id": "2f211ecf",
   "metadata": {},
   "outputs": [
    {
     "name": "stdout",
     "output_type": "stream",
     "text": [
      "Enter your first name: john\n",
      "Enter your last name: wick\n",
      "Your initials are: Jw\n"
     ]
    }
   ],
   "source": [
    "def get_initial(name, force_uppercase=True): # default to True\n",
    "    if force_uppercase:\n",
    "        initial = name[0:1].upper()\n",
    "    else:\n",
    "        initial = name[0:1]\n",
    "    return initial\n",
    "\n",
    "first_name = input('Enter your first name: ')\n",
    "first_name_initial = get_initial(first_name)\n",
    "\n",
    "last_name = input('Enter your last name: ')\n",
    "last_name_initial = get_initial(last_name, False)\n",
    "\n",
    "print('Your initials are: ' + first_name_initial + last_name_initial)"
   ]
  },
  {
   "cell_type": "markdown",
   "id": "fbfde373",
   "metadata": {},
   "source": [
    "When calling a function, you have to pass the parameters in the same order as when you defined the function. An exception to this is when you use named parameters, which offer better readability.  \n",
    "`first_name_initial = get_initial(force_uppercase=True, name=first_name)`"
   ]
  },
  {
   "cell_type": "markdown",
   "id": "d31b3120",
   "metadata": {},
   "source": [
    "Functions make the code more readable if you use good function names. They make the code less clunky. Always add comments to explain the purpose of your function.  \n",
    "The main advantage of functions is that if you ever need to change your function code, you only need to change it in one place. You also reduce rework and the chance to introduce bugs when you change the code you copied."
   ]
  },
  {
   "cell_type": "markdown",
   "id": "12042248",
   "metadata": {},
   "source": [
    "---"
   ]
  }
 ],
 "metadata": {
  "kernelspec": {
   "display_name": "Python 3 (ipykernel)",
   "language": "python",
   "name": "python3"
  },
  "language_info": {
   "codemirror_mode": {
    "name": "ipython",
    "version": 3
   },
   "file_extension": ".py",
   "mimetype": "text/x-python",
   "name": "python",
   "nbconvert_exporter": "python",
   "pygments_lexer": "ipython3",
   "version": "3.8.3"
  }
 },
 "nbformat": 4,
 "nbformat_minor": 5
}
