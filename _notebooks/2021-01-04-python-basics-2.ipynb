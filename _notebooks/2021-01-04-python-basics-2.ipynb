{
 "cells": [
  {
   "cell_type": "markdown",
   "id": "0aa94f2b",
   "metadata": {},
   "source": [
    "# Python Basics - Part 2\n",
    "\n",
    "> This is Part 2 of a Python tutorial for beginners.\n",
    "\n",
    "- toc: true\n",
    "- branch: master\n",
    "- badges: true\n",
    "- comments: true\n",
    "- categories: [python]"
   ]
  },
  {
   "cell_type": "markdown",
   "id": "a21e6896",
   "metadata": {},
   "source": [
    "This blog post is a continuation of the previous post *Python Basics - Part 1*."
   ]
  },
  {
   "cell_type": "markdown",
   "id": "d02104c3",
   "metadata": {},
   "source": [
    "---\n",
    "### List Comprehensions\n",
    "\n",
    "List comprehension offers a shorter syntax when you want to create a new list based on the values of an existing list. Without list comprehension you will have to write a for statement with a conditional test inside.  \n",
    "Say you have a list of numbers `[1, 2, 3]` and you want to create a new list where each number is increased by 1, then this is how you will do it using a `for` loop."
   ]
  },
  {
   "cell_type": "code",
   "execution_count": 4,
   "id": "b2574b9a",
   "metadata": {},
   "outputs": [
    {
     "data": {
      "text/plain": [
       "[2, 3, 4]"
      ]
     },
     "execution_count": 4,
     "metadata": {},
     "output_type": "execute_result"
    }
   ],
   "source": [
    "numbers = [1, 2, 3]\n",
    "new_list = []\n",
    "for n in numbers:\n",
    "    add_1 = n + 1\n",
    "    new_list.append(add_1)\n",
    "    \n",
    "new_list"
   ]
  },
  {
   "cell_type": "markdown",
   "id": "7fe2a177",
   "metadata": {},
   "source": [
    "Using list comprehensions, you can turn the above four lines of code into one. The syntax for list comprehensions is as follows:\n",
    "> `new_list = [new_item for item in list]`  \n",
    "Here `new_item` stands for the operation you want to perform or function you want to execute (i.e. `n+1`), `item` stands for the object you want to perform the operation on (i.e. `n`), and `list` stands for the list or collection you are iterating over (i.e. `numbers`)."
   ]
  },
  {
   "cell_type": "code",
   "execution_count": 5,
   "id": "19904102",
   "metadata": {},
   "outputs": [
    {
     "data": {
      "text/plain": [
       "[2, 3, 4]"
      ]
     },
     "execution_count": 5,
     "metadata": {},
     "output_type": "execute_result"
    }
   ],
   "source": [
    "numbers = [1, 2, 3]\n",
    "new_list = [n + 1 for n in numbers]\n",
    "new_list"
   ]
  },
  {
   "cell_type": "markdown",
   "id": "32d200af",
   "metadata": {},
   "source": [
    "You can use list comprehensions not only for lists but for any other sequences like tuples, strings, arrays, range, etc.  \n",
    "Let's try to create a list of individual letters from a name. In this case, the `new_item` and `item` must be the same."
   ]
  },
  {
   "cell_type": "code",
   "execution_count": 3,
   "id": "2212f343",
   "metadata": {},
   "outputs": [
    {
     "data": {
      "text/plain": [
       "['J', 'o', 'h', 'n']"
      ]
     },
     "execution_count": 3,
     "metadata": {},
     "output_type": "execute_result"
    }
   ],
   "source": [
    "name = 'John'\n",
    "letters = [letter for letter in name]\n",
    "letters"
   ]
  },
  {
   "cell_type": "markdown",
   "id": "2e6c4c2f",
   "metadata": {},
   "source": [
    "Let's try doubling the numbers obtained from a `range` function."
   ]
  },
  {
   "cell_type": "code",
   "execution_count": 6,
   "id": "b96f0f1f",
   "metadata": {},
   "outputs": [
    {
     "data": {
      "text/plain": [
       "[2, 4, 6, 8]"
      ]
     },
     "execution_count": 6,
     "metadata": {},
     "output_type": "execute_result"
    }
   ],
   "source": [
    "new_range = [n * 2 for n in range(1, 5)]\n",
    "new_range"
   ]
  },
  {
   "cell_type": "markdown",
   "id": "82c3f863",
   "metadata": {},
   "source": [
    "You can also optionally add a condition to a list comprehension.\n",
    "> `new_list = [new_item for item in list if test]`  \n",
    "What this does is that it only performs the `new_item` function if the `test` is passed.  \n",
    "\n",
    "From a list of cities, let's only pick the cities with the shortest names."
   ]
  },
  {
   "cell_type": "code",
   "execution_count": 12,
   "id": "6cb4e6b1",
   "metadata": {},
   "outputs": [
    {
     "data": {
      "text/plain": [
       "['Pune', 'Bern', 'Doha']"
      ]
     },
     "execution_count": 12,
     "metadata": {},
     "output_type": "execute_result"
    }
   ],
   "source": [
    "cities = ['London', 'Toronto', 'Pune', 'Tokyo', 'New York', 'Zurich', 'Bern', 'Doha', 'Amsterdam']\n",
    "short_names = [city for city in cities if len(city) < 5]\n",
    "short_names"
   ]
  },
  {
   "cell_type": "markdown",
   "id": "467b7bba",
   "metadata": {},
   "source": [
    "---\n",
    "### Dictionary Comprehensions\n",
    "\n",
    "Dictionary comprehensions help create a new dictionary from the values in an existing list or dictionary or any other type of collection."
   ]
  },
  {
   "cell_type": "markdown",
   "id": "160fad1b",
   "metadata": {},
   "source": [
    "Create a new dictionary with shortened syntax.\n",
    "> `new_dict = {new_key:new_value for item in list}`\n",
    "\n",
    "Create a new dictionary based on the values of an existing dictionary.\n",
    "> `new_dict = {new_key:new_value for (key, value) in dict.items()}` \n",
    "\n",
    "You can also add an optional condition.\n",
    "> `new_dict = {new_key:new_value for (key, value) in dict.items() if test}` \n"
   ]
  },
  {
   "cell_type": "markdown",
   "id": "3af94a34",
   "metadata": {},
   "source": [
    "Say you had a bunch of students and you wanted to assign them their exam scores. We'll generate a random score between 1 and 100."
   ]
  },
  {
   "cell_type": "code",
   "execution_count": 21,
   "id": "2215a244",
   "metadata": {},
   "outputs": [
    {
     "data": {
      "text/plain": [
       "{'Alex': 44, 'Jason': 77, 'Kelly': 30, 'Jane': 42, 'Jill': 29, 'Joe': 98}"
      ]
     },
     "execution_count": 21,
     "metadata": {},
     "output_type": "execute_result"
    }
   ],
   "source": [
    "import random\n",
    "\n",
    "names = ['Alex', 'Jason', 'Kelly', 'Jane', 'Jill', 'Joe']\n",
    "student_scores ={student:random.randint(1, 100) for student in names}\n",
    "student_scores"
   ]
  },
  {
   "cell_type": "markdown",
   "id": "173e2c33",
   "metadata": {},
   "source": [
    "Suppose that you need a score of 40 to pass. Let's create a dictionary of all students that have passed the exam."
   ]
  },
  {
   "cell_type": "code",
   "execution_count": 23,
   "id": "bf5f07c0",
   "metadata": {},
   "outputs": [
    {
     "data": {
      "text/plain": [
       "{'Alex': 44, 'Jason': 77, 'Jane': 42, 'Joe': 98}"
      ]
     },
     "execution_count": 23,
     "metadata": {},
     "output_type": "execute_result"
    }
   ],
   "source": [
    "passed_students = {student:score for (student, score) in student_scores.items() if score >= 40}\n",
    "passed_students"
   ]
  },
  {
   "cell_type": "markdown",
   "id": "029b0bde",
   "metadata": {},
   "source": [
    "Let's try converting a bunch of temperatures in Celsius to Fahrenheit."
   ]
  },
  {
   "cell_type": "code",
   "execution_count": 33,
   "id": "d3407b9d",
   "metadata": {},
   "outputs": [
    {
     "data": {
      "text/plain": [
       "{'Monday': 53.6,\n",
       " 'Tuesday': 57.2,\n",
       " 'Wednesday': 59.0,\n",
       " 'Thursday': 57.2,\n",
       " 'Friday': 69.8,\n",
       " 'Saturday': 71.6,\n",
       " 'Sunday': 75.2}"
      ]
     },
     "execution_count": 33,
     "metadata": {},
     "output_type": "execute_result"
    }
   ],
   "source": [
    "weather_c = {\n",
    "    \"Monday\": 12,\n",
    "    \"Tuesday\": 14,\n",
    "    \"Wednesday\": 15,\n",
    "    \"Thursday\": 14,\n",
    "    \"Friday\": 21,\n",
    "    \"Saturday\": 22,\n",
    "    \"Sunday\": 24,\n",
    "}\n",
    "\n",
    "weather_f = {day:(temp * 9/5 + 32) for (day, temp) in weather_c.items()}\n",
    "\n",
    "weather_f"
   ]
  },
  {
   "cell_type": "markdown",
   "id": "fc86ccf7",
   "metadata": {},
   "source": [
    "---\n",
    "### Lambdas\n",
    "A *lambda* function is an anonymous function. It can have any number of parameters but can only have one expression, which is evaluated and returned. You can use lambda functions wherever function objects are required.  \n",
    "\n",
    "Suppose you want to sort some objects, where each object has a couple of properties. You need to tell `sort` how you want to sort the object. The `key` parameter allows you to pass in a function to call for each list element before it compares items for sorting."
   ]
  },
  {
   "cell_type": "code",
   "execution_count": 2,
   "id": "3ac8705b",
   "metadata": {},
   "outputs": [
    {
     "name": "stdout",
     "output_type": "stream",
     "text": [
      "[{'name': 'Bruce', 'age': 40}, {'name': 'Clark', 'age': 30}, {'name': 'Peter', 'age': 18}, {'name': 'Tony', 'age': 45}]\n"
     ]
    }
   ],
   "source": [
    "# sort people by name\n",
    "\n",
    "# define function for sorting by name\n",
    "def sorter(item):\n",
    "    return item['name']\n",
    "\n",
    "people  = [\n",
    "    {'name': 'Tony', 'age': 45},\n",
    "    {'name': 'Bruce', 'age': 40},\n",
    "    {'name': 'Clark', 'age': 30},\n",
    "    {'name': 'Peter', 'age': 18}\n",
    "]\n",
    "\n",
    "# sort people by name\n",
    "people.sort(key=sorter)\n",
    "print(people)"
   ]
  },
  {
   "cell_type": "markdown",
   "id": "a1a58add",
   "metadata": {},
   "source": [
    "The `sorter` function is fairly small and it's not really doing a lot. When you've got a function like this that is just a single line of code, you don't necessarily have to declare a separate function. You can use a lambda function and it's implemented inline. "
   ]
  },
  {
   "cell_type": "code",
   "execution_count": 3,
   "id": "82bef944",
   "metadata": {},
   "outputs": [
    {
     "name": "stdout",
     "output_type": "stream",
     "text": [
      "[{'name': 'Bruce', 'age': 40}, {'name': 'Clark', 'age': 30}, {'name': 'Peter', 'age': 18}, {'name': 'Tony', 'age': 45}]\n",
      "[{'name': 'Tony', 'age': 45}, {'name': 'Bruce', 'age': 40}, {'name': 'Clark', 'age': 30}, {'name': 'Peter', 'age': 18}]\n"
     ]
    }
   ],
   "source": [
    "people  = [\n",
    "    {'name': 'Tony', 'age': 45},\n",
    "    {'name': 'Bruce', 'age': 40},\n",
    "    {'name': 'Clark', 'age': 30},\n",
    "    {'name': 'Peter', 'age': 18}\n",
    "]\n",
    "\n",
    "# lambda function to sort by name\n",
    "people.sort(key=lambda item: item['name'])\n",
    "print(people)\n",
    "\n",
    "# lambda function to sort by length of name\n",
    "people.sort(key=lambda item: len(item['name']))\n",
    "print(people)"
   ]
  },
  {
   "cell_type": "markdown",
   "id": "d08a1235",
   "metadata": {},
   "source": [
    "Before, we had the `sorter` function:\n",
    "> `def sorted(parameter):\n",
    "    return value`\n",
    "\n",
    "This is how the lambda function syntax compares:\n",
    "> `lambda parameter: value`"
   ]
  },
  {
   "cell_type": "markdown",
   "id": "953dffe4",
   "metadata": {},
   "source": [
    "---\n",
    "### Object Oriented Programming (OOP)\n",
    "\n",
    "Let's say you want to start a restaurant, and in this restaurant you have 4 employees. A manager that manages a chef, a waiter, and a cleaner.  \n",
    "Let us now consider the waiter. When considering the position of a waiter, we need to consider two things: what he has and what he does.\n",
    "\n",
    "- What the waiter **has**:  \n",
    "Can he hold a plate? What tables is he responsible for?\n",
    "\n",
    "> `is_holding_plate = True`  \n",
    "> `tables_responsible = [4, 5, 6]`\n",
    "\n",
    "- What the waiter **does**:  \n",
    "The waiter takes orders and takes payments from the customer.\n",
    "\n",
    "> `def take_order(table, order): \n",
    "    #takes order to chef` \n",
    "    \n",
    "> `def take_payment(amount): \n",
    "    # add money to restaurant`\n",
    "\n",
    "What the object (the waiter) has are called **attributes**, and what the object does are called **methods**. As you can see, attributes are just variables associated with an object, whereas methods are just functions an object can do.\n",
    "\n",
    "We can generate multiple versions of the same object. For e.g., we can have two waiters called John and Jenny. So now the object - waiter is a **class** and John and Jenny are its objects."
   ]
  },
  {
   "cell_type": "markdown",
   "id": "c90377af",
   "metadata": {},
   "source": [
    "---\n",
    "### Classes\n",
    "A *class* is like an object constructor, a \"blueprint\" for creating objects. It allows you to define a data structure and its behavior, and store data. With classes, you can create reusable components, and group data and operations together.  \n",
    "The attributes of a class are data members (class variables and instance variables) and methods, accessed via a dot(`.`) notation.\n",
    " \n",
    "> Classes are nouns - what it is that you're describing  \n",
    "Properties are adjectives - things that are true about the class  \n",
    "Methods are verbs - things that the class can do\n",
    "\n",
    "#### Creating a class\n",
    "The names of the classes use Pascal casing.  \n",
    "An *object* is a unique instance of a data structure that's defined by its class. An object comprises both, data members and methods.  \n",
    "A *class variable* is a variable that is shared by all instances of a class. Class variables are defined within a class but outside any of the class's methods.  \n",
    "An *instance* is an individual object of a certain class. For e.g., an object `obj` that belongs to a class `People` is an instance of the class.  \n",
    "A *method* is nothing but a function that is defined within a class.  \n",
    "An *instance variable* is a variable that is defined inside a method and belongs only to the current instance of a class.  \n",
    "*Constructors* are used for instantiating an object. The task of constructors is to initialize (assign values) to the data members of the class when an object of class is created.  \n",
    "In Python, the `__init__()` method is called the class constructor or initialization method, and it is always called when an object is created (constructed).  \n",
    "The first parameter of `__init__` is `self`, which  is a reference to the current instance of the class, and is used to access variables that belong to the class. Note that it is not a keyword in Python and it does not have to be named `self`. You can call it whatever you like, but it has to be the first parameter of any function in the class. After that, we go ahead and set up any additional parameters that we may want.  \n",
    "Then you define a field or property using `self.<parameter_name>`. So whenever we create an instance of the class, the `self` will refer to a different instance from which we are accessing class properties or methods.  \n",
    "Then you can add any methods that you want, and the methods can involve any of the instantiated parameters, with the exception that the first argument to each method is `self`. Python adds the `self` argument to the list for you; you do not need to include it when you call the methods."
   ]
  },
  {
   "cell_type": "code",
   "execution_count": 4,
   "id": "51463ad6",
   "metadata": {},
   "outputs": [],
   "source": [
    "# create class\n",
    "class People():\n",
    "    # class constructor\n",
    "    def __init__(self, name):\n",
    "        # field / property\n",
    "        self.name = name\n",
    "    # method\n",
    "    def say_hello(self):\n",
    "        print('Hello,  ' + self.name)"
   ]
  },
  {
   "cell_type": "markdown",
   "id": "d6211411",
   "metadata": {},
   "source": [
    "#### Using a class"
   ]
  },
  {
   "cell_type": "code",
   "execution_count": 5,
   "id": "1955e638",
   "metadata": {},
   "outputs": [
    {
     "name": "stdout",
     "output_type": "stream",
     "text": [
      "Hello,  Batman\n",
      "Hello,  Bruce\n"
     ]
    }
   ],
   "source": [
    "# set the name\n",
    "person = People('Batman')\n",
    "person.say_hello()\n",
    "\n",
    "# change the name\n",
    "person.name = 'Bruce'\n",
    "person.say_hello()"
   ]
  },
  {
   "cell_type": "markdown",
   "id": "02e29354",
   "metadata": {},
   "source": [
    "Here's another example:"
   ]
  },
  {
   "cell_type": "code",
   "execution_count": 6,
   "id": "71551f14",
   "metadata": {},
   "outputs": [
    {
     "name": "stdout",
     "output_type": "stream",
     "text": [
      "Laptop 1: Apple 13-inch Macbook Pro\n",
      "Laptop 2: Micrsoft 15-inch Surface Book 3\n"
     ]
    }
   ],
   "source": [
    "# class\n",
    "class Laptop:\n",
    "    # class constructor\n",
    "    def __init__(self, company, model):\n",
    "        # field\n",
    "        self.company = company\n",
    "        self.model = model\n",
    "\n",
    "# creating instances for the class Laptop\n",
    "laptop_one = Laptop('Apple', '13-inch Macbook Pro')\n",
    "laptop_two = Laptop('Micrsoft', '15-inch Surface Book 3')\n",
    "\n",
    "# printing the properties of the instances\n",
    "print(f'Laptop 1: {laptop_one.company} {laptop_one.model}')\n",
    "print(f'Laptop 2: {laptop_two.company} {laptop_two.model}')"
   ]
  },
  {
   "cell_type": "markdown",
   "id": "1578539b",
   "metadata": {},
   "source": [
    "Let's focus on classes a bit more in detail. Suppose you want to create a class that keeps a count of the number of employees in the organization, and also displays their name and salary."
   ]
  },
  {
   "cell_type": "code",
   "execution_count": 7,
   "id": "75fda784",
   "metadata": {},
   "outputs": [],
   "source": [
    "class Employee:\n",
    "    '''Common base class for all employees'''\n",
    "    # class variable\n",
    "    empCount = 0\n",
    "    # can be accessed as Employee.empCount\n",
    "    \n",
    "    # class constructor\n",
    "    def __init__(self, name, salary):\n",
    "        self.name = name\n",
    "        self.salary = salary\n",
    "        Employee.empCount += 1\n",
    "        \n",
    "    def displayCount(self):\n",
    "        print('Total employees: %d' % Employee.empCount)\n",
    "    \n",
    "    def displayEmployee(self):\n",
    "        print('Name: ', self.name, ', Salary: ', self.salary)"
   ]
  },
  {
   "cell_type": "markdown",
   "id": "bbe1b515",
   "metadata": {},
   "source": [
    "#### Creating instance objects\n",
    "To create instances of a class, you call the class using the class name and pass in whatever arguments its `__init__` method accepts."
   ]
  },
  {
   "cell_type": "code",
   "execution_count": 8,
   "id": "f28283bb",
   "metadata": {},
   "outputs": [],
   "source": [
    "# create first object of Employee class\n",
    "emp1 = Employee('John', 40000)\n",
    "\n",
    "# create second object of Employee class\n",
    "emp2 = Employee('Jane', 60000)"
   ]
  },
  {
   "cell_type": "markdown",
   "id": "9c94e1c4",
   "metadata": {},
   "source": [
    "#### Accessing attributes\n",
    "You can access the object's attributes using the dot operator with the object. Class variable would be accessed using the class name."
   ]
  },
  {
   "cell_type": "code",
   "execution_count": 9,
   "id": "ee3acf28",
   "metadata": {},
   "outputs": [
    {
     "name": "stdout",
     "output_type": "stream",
     "text": [
      "Name:  John , Salary:  40000\n",
      "Name:  Jane , Salary:  60000\n",
      "Total employees: 2\n"
     ]
    }
   ],
   "source": [
    "emp1.displayEmployee()\n",
    "emp2.displayEmployee()\n",
    "emp1.displayCount()"
   ]
  },
  {
   "cell_type": "markdown",
   "id": "27b21e7e",
   "metadata": {},
   "source": [
    "One of the things that we have to be aware of when it comes to a field, is the fact that anybody is going to be able to access and update that. You can have some level of control over how somebody is able to use your class, which we'll discuss below.\n",
    "\n",
    "#### Accessibility in Python\n",
    "When you create a class, you might want to exert some level of control as to how you want people to use your class. For this, you need to learn about accessibility.  \n",
    "Everything inside of Python is public. However, there are certain conventions for suggesting the accessibility.\n",
    "- `_` (single underscore) means avoid that property or method unless you know exactly what you're doing. Maybe because there might be some changes in the property some time in the future.\n",
    "- `__` (double underscore) means **do not use**."
   ]
  },
  {
   "cell_type": "markdown",
   "id": "db2fa2b0",
   "metadata": {},
   "source": [
    "#### Adding properties\n",
    "In order to better control accessibility, you can use properties. Properties give us field style access but actually use methods behind the scenes."
   ]
  },
  {
   "cell_type": "code",
   "execution_count": 10,
   "id": "cbd4c0f8",
   "metadata": {},
   "outputs": [],
   "source": [
    "class People():\n",
    "    def __init__(self, name):\n",
    "        # constructor\n",
    "        self.name = name # we're calling the property\n",
    "    \n",
    "    @property\n",
    "    def name(self):\n",
    "        print('In the getter')\n",
    "        return self.__name\n",
    "    \n",
    "    @name.setter\n",
    "    def name(self, value):\n",
    "        print('In the setter')\n",
    "        # validation here\n",
    "        self.__name = value"
   ]
  },
  {
   "cell_type": "markdown",
   "id": "8cd0e376",
   "metadata": {},
   "source": [
    "#### Using a property"
   ]
  },
  {
   "cell_type": "code",
   "execution_count": 11,
   "id": "ebc4ddc2",
   "metadata": {},
   "outputs": [
    {
     "name": "stdout",
     "output_type": "stream",
     "text": [
      "In the setter\n",
      "In the setter\n",
      "In the getter\n",
      "Bruce\n"
     ]
    }
   ],
   "source": [
    "person = People('Batman')\n",
    "person.name = 'Bruce'\n",
    "print(person.name)"
   ]
  },
  {
   "cell_type": "markdown",
   "id": "72203ac7",
   "metadata": {},
   "source": [
    "We can see that \"In the setter\" is called twice because the first time we call it, is in the constructor."
   ]
  },
  {
   "cell_type": "markdown",
   "id": "574a0eac",
   "metadata": {},
   "source": [
    "### Class Property\n",
    "The `property()` function, as the name suggests, is used to create a property of a class.\n",
    "\n",
    "#### Class without getter and setters\n",
    "Let's assume that we decide to make a class that stores the temperature in degrees Celsius. It would also implement a method to convert the temperature into degrees Fahrenheit. One way of doing this is as follows:"
   ]
  },
  {
   "cell_type": "code",
   "execution_count": 4,
   "id": "6b14a84e",
   "metadata": {},
   "outputs": [],
   "source": [
    "class Celsius:\n",
    "    def __init__(self, temperature=0):\n",
    "        self.temperature = temperature\n",
    "    \n",
    "    def to_fahrenheit(self):\n",
    "        return (self.temperature * 1.8) + 32"
   ]
  },
  {
   "cell_type": "markdown",
   "id": "b238dfef",
   "metadata": {},
   "source": [
    "We can make objects out of this class and manipulate the `temperature` attribute as we wish."
   ]
  },
  {
   "cell_type": "code",
   "execution_count": 5,
   "id": "4232cbf4",
   "metadata": {},
   "outputs": [
    {
     "name": "stdout",
     "output_type": "stream",
     "text": [
      "37\n",
      "98.60000000000001\n"
     ]
    }
   ],
   "source": [
    "# basic method of setting and getting attributes in Python\n",
    "\n",
    "# create a new object\n",
    "human = Celsius()\n",
    "\n",
    "# set the temperature\n",
    "human.temperature = 37\n",
    "\n",
    "# get the temperature attribute\n",
    "print(human.temperature)\n",
    "\n",
    "# get the to_fahrenheit method\n",
    "print(human.to_fahrenheit())"
   ]
  },
  {
   "cell_type": "markdown",
   "id": "919eec38",
   "metadata": {},
   "source": [
    "Whenever we assign or retrieve any object attribute like `temperature`, Python searches it in the object's built-in `__dict__` dictionary attribute."
   ]
  },
  {
   "cell_type": "code",
   "execution_count": 6,
   "id": "417550ab",
   "metadata": {},
   "outputs": [
    {
     "data": {
      "text/plain": [
       "{'temperature': 37}"
      ]
     },
     "execution_count": 6,
     "metadata": {},
     "output_type": "execute_result"
    }
   ],
   "source": [
    "human.__dict__"
   ]
  },
  {
   "cell_type": "markdown",
   "id": "b2524ffb",
   "metadata": {},
   "source": [
    "Therefore, `man.temperature` internally becomes `man.__dict__['temperature']`."
   ]
  },
  {
   "cell_type": "markdown",
   "id": "9b481cdf",
   "metadata": {},
   "source": [
    "#### Using getters and setters\n",
    "Suppose we want to extend the usability of the `Celsius` class. We know that the temperature of any object cannot reach below -273.15 degrees Celsius (Absolute Zero in Thermodynamics). Let's update the code to implement this value restraint.  \n",
    "An obvious solution to the above restriction will be to hide the attribute `temperature` (make it private) and define new getter and setter methods to manipulate it. This can be done as follows:"
   ]
  },
  {
   "cell_type": "code",
   "execution_count": 7,
   "id": "8fa74b7e",
   "metadata": {},
   "outputs": [],
   "source": [
    "# making getter and setter methods\n",
    "\n",
    "class Celsius:\n",
    "    def __init__(self, temperature=0):\n",
    "        self.set_temperature(temperature)\n",
    "\n",
    "    def to_fahrenheit(self):\n",
    "        return (self.get_temperature() * 1.8) + 32\n",
    "    \n",
    "    # getter method\n",
    "    def get_temperature(self):\n",
    "        return self._temperature\n",
    "\n",
    "    # setter method\n",
    "    def set_temperature(self, value):\n",
    "        if value < -273.15:\n",
    "            raise ValueError('Temperature below -273.15 is not possible')\n",
    "        self._temperature = value"
   ]
  },
  {
   "cell_type": "markdown",
   "id": "2ff2fce7",
   "metadata": {},
   "source": [
    "The above method introduces two new `get_temperature()` and `set_temperature()` methods.  \n",
    "Furthermore, `temperature` was replaced with `_temperature`. An underscore `_` at the beginning is used to denote private variables in Python.  \n",
    "Let's use this implementation:"
   ]
  },
  {
   "cell_type": "code",
   "execution_count": 8,
   "id": "61608446",
   "metadata": {},
   "outputs": [
    {
     "name": "stdout",
     "output_type": "stream",
     "text": [
      "37\n",
      "98.60000000000001\n"
     ]
    }
   ],
   "source": [
    "# create a new object, \n",
    "# set_temperature() internally called by __init__\n",
    "human = Celsius(37)\n",
    "\n",
    "# get the temperature attribute via a getter\n",
    "print(human.get_temperature())\n",
    "\n",
    "# get the to_fahrenheit method, \n",
    "# get_temperature() called by the method itself\n",
    "print(human.to_fahrenheit())"
   ]
  },
  {
   "cell_type": "code",
   "execution_count": 9,
   "id": "b2a27d93",
   "metadata": {},
   "outputs": [
    {
     "ename": "ValueError",
     "evalue": "Temperature below -273.15 is not possible",
     "output_type": "error",
     "traceback": [
      "\u001b[0;31m---------------------------------------------------------------------------\u001b[0m",
      "\u001b[0;31mValueError\u001b[0m                                Traceback (most recent call last)",
      "\u001b[0;32m<ipython-input-9-2b566650c83f>\u001b[0m in \u001b[0;36m<module>\u001b[0;34m\u001b[0m\n\u001b[1;32m      1\u001b[0m \u001b[0;31m# new contraint implementation\u001b[0m\u001b[0;34m\u001b[0m\u001b[0;34m\u001b[0m\u001b[0;34m\u001b[0m\u001b[0m\n\u001b[0;32m----> 2\u001b[0;31m \u001b[0mhuman\u001b[0m\u001b[0;34m.\u001b[0m\u001b[0mset_temperature\u001b[0m\u001b[0;34m(\u001b[0m\u001b[0;34m-\u001b[0m\u001b[0;36m300\u001b[0m\u001b[0;34m)\u001b[0m\u001b[0;34m\u001b[0m\u001b[0;34m\u001b[0m\u001b[0m\n\u001b[0m\u001b[1;32m      3\u001b[0m \u001b[0;34m\u001b[0m\u001b[0m\n\u001b[1;32m      4\u001b[0m \u001b[0;31m# get the to_fahrenheit method\u001b[0m\u001b[0;34m\u001b[0m\u001b[0;34m\u001b[0m\u001b[0;34m\u001b[0m\u001b[0m\n\u001b[1;32m      5\u001b[0m \u001b[0mprint\u001b[0m\u001b[0;34m(\u001b[0m\u001b[0mhuman\u001b[0m\u001b[0;34m.\u001b[0m\u001b[0mto_fahrenheit\u001b[0m\u001b[0;34m(\u001b[0m\u001b[0;34m)\u001b[0m\u001b[0;34m)\u001b[0m\u001b[0;34m\u001b[0m\u001b[0;34m\u001b[0m\u001b[0m\n",
      "\u001b[0;32m<ipython-input-7-53b860660b5e>\u001b[0m in \u001b[0;36mset_temperature\u001b[0;34m(self, value)\u001b[0m\n\u001b[1;32m     15\u001b[0m     \u001b[0;32mdef\u001b[0m \u001b[0mset_temperature\u001b[0m\u001b[0;34m(\u001b[0m\u001b[0mself\u001b[0m\u001b[0;34m,\u001b[0m \u001b[0mvalue\u001b[0m\u001b[0;34m)\u001b[0m\u001b[0;34m:\u001b[0m\u001b[0;34m\u001b[0m\u001b[0;34m\u001b[0m\u001b[0m\n\u001b[1;32m     16\u001b[0m         \u001b[0;32mif\u001b[0m \u001b[0mvalue\u001b[0m \u001b[0;34m<\u001b[0m \u001b[0;34m-\u001b[0m\u001b[0;36m273.15\u001b[0m\u001b[0;34m:\u001b[0m\u001b[0;34m\u001b[0m\u001b[0;34m\u001b[0m\u001b[0m\n\u001b[0;32m---> 17\u001b[0;31m             \u001b[0;32mraise\u001b[0m \u001b[0mValueError\u001b[0m\u001b[0;34m(\u001b[0m\u001b[0;34m'Temperature below -273.15 is not possible'\u001b[0m\u001b[0;34m)\u001b[0m\u001b[0;34m\u001b[0m\u001b[0;34m\u001b[0m\u001b[0m\n\u001b[0m\u001b[1;32m     18\u001b[0m         \u001b[0mself\u001b[0m\u001b[0;34m.\u001b[0m\u001b[0m_temperature\u001b[0m \u001b[0;34m=\u001b[0m \u001b[0mvalue\u001b[0m\u001b[0;34m\u001b[0m\u001b[0;34m\u001b[0m\u001b[0m\n",
      "\u001b[0;31mValueError\u001b[0m: Temperature below -273.15 is not possible"
     ]
    }
   ],
   "source": [
    "# new contraint implementation\n",
    "human.set_temperature(-300)\n",
    "\n",
    "# get the to_fahrenheit method\n",
    "print(human.to_fahrenheit())"
   ]
  },
  {
   "cell_type": "markdown",
   "id": "3cebb3e1",
   "metadata": {},
   "source": [
    "This update successfully implemented the new restriction. We are no longer allowed to set the temperature below -273.15 degrees Celsius.\n",
    "> **Note:** The private variables don't actually exist in Python. They are simply norms to be followed. The language itself doesn't apply any restrictions."
   ]
  },
  {
   "cell_type": "code",
   "execution_count": null,
   "id": "08f5886c",
   "metadata": {},
   "outputs": [],
   "source": [
    "human._temperature = -300\n",
    "human.get_temperature()"
   ]
  },
  {
   "cell_type": "markdown",
   "id": "da676c30",
   "metadata": {},
   "source": [
    "However, the bigger problem with the above update is that all the programs that implemented our previous class have to modify their code from the `obj.temperature` to `obj.get_temperature()` and all expressions like `obj.temperature = val` to `obj.set_temperature(val)`.  \n",
    "This refactoring can cause problems while dealing with hundreds of thousands of lines of codes. Basically, our new update was not backwards compatible. This is where `@property` comes to the rescue."
   ]
  },
  {
   "cell_type": "markdown",
   "id": "aea2f601",
   "metadata": {},
   "source": [
    "#### The property class\n",
    "A Pythonic way to deal with the above problem is to use the `property` class. Here is how we can update our code:"
   ]
  },
  {
   "cell_type": "code",
   "execution_count": null,
   "id": "6cd3c410",
   "metadata": {},
   "outputs": [],
   "source": [
    "# using property class\n",
    "class Celsius:\n",
    "    def __init__(self, temperature=0):\n",
    "        self.temperature = temperature\n",
    "    \n",
    "    def to_fahrenheit(self):\n",
    "        return (self.temperature * 1.8) + 32\n",
    "    \n",
    "    # getter\n",
    "    def get_temperature(self):\n",
    "        print('Getting value...')\n",
    "        return self._temperature\n",
    "    \n",
    "    # setter\n",
    "    def set_temperature(self, value):\n",
    "        print(\"Setting value...\")\n",
    "        if value < -273.15:\n",
    "            raise ValueError('Temperature below -273.15 is not possible')\n",
    "        self._temperature = value\n",
    "        \n",
    "    # creating a property object\n",
    "    temperature = property(get_temperature, set_temperature)"
   ]
  },
  {
   "cell_type": "markdown",
   "id": "26b8e85c",
   "metadata": {},
   "source": [
    "We added a `print()` function inside `get_temperature()` to clearly observe that they are being executed. The last line of the code make a property object `temperature`. `property` attaches some code (`get_temperature()` and `set_temperature()`) to the member attribute accesses (`temperature`).  \n",
    "Let's use this updated code:"
   ]
  },
  {
   "cell_type": "code",
   "execution_count": null,
   "id": "d6086a62",
   "metadata": {},
   "outputs": [],
   "source": [
    "human = Celsius(37)\n",
    "\n",
    "print(human.temperature)\n",
    "\n",
    "print(human.to_fahrenheit())"
   ]
  },
  {
   "cell_type": "code",
   "execution_count": null,
   "id": "ac9a32db",
   "metadata": {},
   "outputs": [],
   "source": [
    "human.temperature = -300"
   ]
  },
  {
   "cell_type": "markdown",
   "id": "45bd9e85",
   "metadata": {},
   "source": [
    "As we can see, any code that retrieves the value of `temperature` will automatically call `get_temperature()` instead of a dictionary (`__dict__`) look-up. Similarly, any code that assigns a value to `temperature` will automatically call `set_temperature()`.  \n",
    "We can even see that `set_temperature()` was called even when we created an object.  \n",
    "Can you guess why?  \n",
    "The reason is that when an object is created, the `__init__()` method gets called. This method has the line `self.temperature = temperature`. This expression automatically calls `set_temperature()`. Similarly, any access like `c.temperature` automatically calls `get_temperature()`. This is what property does. Here are a few more examples:"
   ]
  },
  {
   "cell_type": "code",
   "execution_count": null,
   "id": "5cf69f5f",
   "metadata": {},
   "outputs": [],
   "source": [
    "shark = Celsius(20)"
   ]
  },
  {
   "cell_type": "code",
   "execution_count": null,
   "id": "0cbb666a",
   "metadata": {},
   "outputs": [],
   "source": [
    "shark.temperature"
   ]
  },
  {
   "cell_type": "code",
   "execution_count": null,
   "id": "93fbb07a",
   "metadata": {},
   "outputs": [],
   "source": [
    "shark.temperature = 20"
   ]
  },
  {
   "cell_type": "code",
   "execution_count": null,
   "id": "588db5a3",
   "metadata": {},
   "outputs": [],
   "source": [
    "shark.to_fahrenheit()"
   ]
  },
  {
   "cell_type": "markdown",
   "id": "94b4dd37",
   "metadata": {},
   "source": [
    "By using `property`, we can see that no modification is required in the implementation of the value constraint. Thus, our implementation is backward compatible.\n",
    "> **Note:** The actual temperature value is stored in the private `_temperature` variable. The `temperature` attribute is a property object which provides an interface to this private variable."
   ]
  },
  {
   "cell_type": "markdown",
   "id": "a8330e1e",
   "metadata": {},
   "source": [
    "#### The  @property decorator\n",
    "In Python, `property()` is a built-in function that creates and returns a `property` object. The syntax of this function is: \n",
    "> `property(fget=None, fset=None, fdel=None, doc=None)`  \n",
    "> where,  \n",
    "> - `fget` is a function to get value of the attribute  \n",
    "> - `fset` is a function to set value of the attribute\n",
    "> - `fdel` is a function to delete the attribute\n",
    "> - `doc` is a string (like a comment)\n",
    "\n",
    "These function arguments are optional. So, a property object can simply be created as follows:"
   ]
  },
  {
   "cell_type": "code",
   "execution_count": null,
   "id": "327487af",
   "metadata": {},
   "outputs": [],
   "source": [
    "property()"
   ]
  },
  {
   "cell_type": "markdown",
   "id": "c389f085",
   "metadata": {},
   "source": [
    "To specify the arguments at a later point, a property object has three methods, `getter()`, `setter()`, and `deleter()`, to specify `fget`, `fset`, and `fdel` at a later point. This means, the line:\n",
    "> `temperature = property(get_temperature, set_temperature)`\n",
    "\n",
    "can be broken down as:\n",
    "> `# make empty property`  \n",
    "> `temperature = property()`  \n",
    "> `# assign fget`  \n",
    "> `temperature = temperature.getter(get_temperature)`  \n",
    "> `# assign fset`  \n",
    "> `temperature = temperature.setter(set_temperature)`\n",
    "\n",
    "These two pieces of code are equivalent. The above construct can be implemented as decorators. We can even not define the names `get_temperature` and `set_temperature` as they are unnecessary and pollute the class namespace. For this, we reuse the `temperature` name while defining our getter and setter functions. Let's implement this as a decorator."
   ]
  },
  {
   "cell_type": "code",
   "execution_count": null,
   "id": "5a0c6f0c",
   "metadata": {},
   "outputs": [],
   "source": [
    "# using @property decorator\n",
    "class Celsius:\n",
    "    def __init__(self, temperature=0):\n",
    "        self.temperature = temperature\n",
    "        \n",
    "    def to_fahrenheit(self):\n",
    "        return (self.temperature * 1.8) + 32\n",
    "        \n",
    "    @property\n",
    "    def temperature(self):\n",
    "        print('Getting value...')\n",
    "        return self._temperature\n",
    "    \n",
    "    @temperature.setter\n",
    "    def temperature(self, value):\n",
    "        print('Setting value...')\n",
    "        if value < -273.15:\n",
    "            raise ValueError('Temperature below -273.15 is not possible')\n",
    "        self._temperature = value\n",
    "        \n",
    "# create an object\n",
    "human = Celsius(37)\n",
    "\n",
    "print(human.temperature)\n",
    "\n",
    "print(human.to_fahrenheit())\n",
    "\n",
    "coldest_thing = Celsius(-300)"
   ]
  },
  {
   "cell_type": "markdown",
   "id": "5021d9ba",
   "metadata": {},
   "source": [
    "The above implementation is not only simple and efficient, but it is also the recommended way to use `property`."
   ]
  },
  {
   "cell_type": "markdown",
   "id": "abeb12ec",
   "metadata": {},
   "source": [
    "---\n",
    "### Inheritance\n",
    "\n",
    "Composition, with properties, creates a \"has a\" relationship:\n",
    "> Student has a Class  \n",
    "> DatabaseConnection has a ConnectionString  \n",
    "\n",
    "Inheritance creates an \"is a\" relationship:\n",
    "> Student is a Person  \n",
    "> SqlConnection is a DatabaseConnection\n",
    "\n",
    "*Inheritance* is the capability of one class to derive or inherit the properties from another class. It is the process in which we try to access the features of other classes without actually making the object of the parent class.  \n",
    "*Parent class* is the class being inherited from, also called base class.  \n",
    "*Child class* or derived class is the class that inherits from another class."
   ]
  },
  {
   "cell_type": "code",
   "execution_count": null,
   "id": "8d6046dd",
   "metadata": {},
   "outputs": [],
   "source": [
    "class Person:\n",
    "    def __init__(self, name):\n",
    "        self.name = name\n",
    "        \n",
    "    def say_hello(self):\n",
    "        print('Hello, ' + self.name)\n",
    "        \n",
    "class Student(Person):\n",
    "    def __init__(self, name, school):\n",
    "        super().__init__(name) # call the parent constructor\n",
    "        self.school = school # field for Student\n",
    "    def sing_school_song(self): # additional functionality\n",
    "        print('Ode to ' + self.school)\n",
    "        \n",
    "student = Student('John', 'St. Paul')\n",
    "student.say_hello() # comes from Person\n",
    "student.sing_school_song() # comes from Student"
   ]
  },
  {
   "cell_type": "code",
   "execution_count": null,
   "id": "1149853e",
   "metadata": {},
   "outputs": [],
   "source": [
    "print(f'Is this a student? {isinstance(student, Student)}')\n",
    "print(f'Is this a person? {isinstance(student, Person)}')\n",
    "print(f'Is Student a Person? {issubclass(Student, Person)}')"
   ]
  },
  {
   "cell_type": "markdown",
   "id": "1236d27f",
   "metadata": {},
   "source": [
    "What the above cell tells us is that:  \n",
    "The variable `student` is an instance of the class `Student`.   \n",
    "`student` is also an instance of the class `Person`.  \n",
    "The class `Student` is a subclass (child class) of the superclass (parent class) `Person`."
   ]
  },
  {
   "cell_type": "markdown",
   "id": "51fd5885",
   "metadata": {},
   "source": [
    "We can also create a brand new definition of `say_hello()` in the `Student` class."
   ]
  },
  {
   "cell_type": "code",
   "execution_count": null,
   "id": "12ac8526",
   "metadata": {},
   "outputs": [],
   "source": [
    "class Person:\n",
    "    def __init__(self, name):\n",
    "        self.name = name\n",
    "        \n",
    "    def say_hello(self):\n",
    "        print('Hello, ' + self.name)\n",
    "        \n",
    "class Student(Person):\n",
    "    def __init__(self, name, school):\n",
    "        super().__init__(name)\n",
    "        self.school = school \n",
    "    def sing_school_song(self):\n",
    "        print('Ode to ' + self.school)\n",
    "    def say_hello(self):\n",
    "        super().say_hello() # let parent class do some work\n",
    "        print('You get good grades!') # add custom code\n",
    "        \n",
    "student = Student('John', 'St. Paul')\n",
    "student.say_hello()"
   ]
  },
  {
   "cell_type": "markdown",
   "id": "28c62a3f",
   "metadata": {},
   "source": [
    "You need to use `super()` to call the function from the parent class. If you would not have used it here, the `say_hello()` function would not have printed \"Hello, John\".     \n",
    "Let's see what happens when we just print `student`."
   ]
  },
  {
   "cell_type": "code",
   "execution_count": null,
   "id": "0da799fc",
   "metadata": {},
   "outputs": [],
   "source": [
    "print(student)"
   ]
  },
  {
   "cell_type": "markdown",
   "id": "a63150d6",
   "metadata": {},
   "source": [
    "This just tells you that it's an object and gives you a memory address.\n"
   ]
  },
  {
   "cell_type": "markdown",
   "id": "977a8a46",
   "metadata": {},
   "source": [
    "#### Overriding methods\n",
    "You can override your parent class methods. One reason for overwriting parent's methods is because you may want special or different functionality in your subclass."
   ]
  },
  {
   "cell_type": "code",
   "execution_count": null,
   "id": "8d936993",
   "metadata": {},
   "outputs": [],
   "source": [
    "class Student(Person):\n",
    "    def __init__(self, name, school):\n",
    "        super().__init__(name)\n",
    "        self.school = school \n",
    "    def sing_school_song(self):\n",
    "        print('Ode to ' + self.school)\n",
    "    def say_hello(self):\n",
    "        # super().say_hello()\n",
    "        print('He gets good grades!') \n",
    "    def __str__(self):\n",
    "        return f'{self.name} attends {self.school} school'\n",
    "        \n",
    "student = Student('John', 'St. Paul')\n",
    "print(student)\n",
    "student.say_hello()"
   ]
  },
  {
   "cell_type": "markdown",
   "id": "03f03084",
   "metadata": {},
   "source": [
    "Just like `__str__`, there are other methods you can use like `__init__(self[,args...])`, `__del__(self)`, `__repr__(self)`, `__cmp__(self,x)`. You can read more about them online.  \n",
    "**Note:** You should not add functionality to your code unless you need it."
   ]
  },
  {
   "cell_type": "markdown",
   "id": "402857e1",
   "metadata": {},
   "source": [
    "---\n",
    "### Managing the File System\n",
    "At some point, developers need to interact with the file system for reading or writing files, figuring out what directory you're in, etc. Let's look at some of the Python library systems we can use to work with the file system itself.\n",
    "Earlier versions of Python used `os.path` i.e. operating system path, where you would call the operating system to check what path are you in. From Python 3.6 onwards, there is new library `pathlib`, which includes a class called `Path`; and this is a cleaner and faster way to access things like what directory you're in, what files are in that directory, etc.  \n",
    "First, let's import the `Path` library."
   ]
  },
  {
   "cell_type": "code",
   "execution_count": 10,
   "id": "1a5cd842",
   "metadata": {},
   "outputs": [],
   "source": [
    "# grab the library\n",
    "from pathlib import Path"
   ]
  },
  {
   "cell_type": "markdown",
   "id": "ea9cd4a1",
   "metadata": {},
   "source": [
    "If you want to retrieve what directory you are currently working in, you can use `Path.cwd`, where *cwd* stands for current working directory."
   ]
  },
  {
   "cell_type": "code",
   "execution_count": 11,
   "id": "0f86ca97",
   "metadata": {},
   "outputs": [
    {
     "name": "stdout",
     "output_type": "stream",
     "text": [
      "/mnt/c/Users/prana/Data Science/Python\n"
     ]
    }
   ],
   "source": [
    "# where am I?\n",
    "cwd = Path.cwd()\n",
    "print(cwd)"
   ]
  },
  {
   "cell_type": "markdown",
   "id": "f5fe8653",
   "metadata": {},
   "source": [
    "You might want to know the full path name, i.e. the name of the directory and the file name. The `joinpath` function builds for you the correct structure of the directory and file name together."
   ]
  },
  {
   "cell_type": "code",
   "execution_count": 12,
   "id": "5e5911be",
   "metadata": {},
   "outputs": [
    {
     "name": "stdout",
     "output_type": "stream",
     "text": [
      "/mnt/c/Users/prana/Data Science/Python/new_file.txt\n"
     ]
    }
   ],
   "source": [
    "# combine parts to create full path and file name\n",
    "new_file = Path.joinpath(cwd, 'new_file.txt')\n",
    "print(new_file)"
   ]
  },
  {
   "cell_type": "markdown",
   "id": "765458f4",
   "metadata": {},
   "source": [
    "If you want to check if a file exists (maybe before reading the file), you can use the `exists` function."
   ]
  },
  {
   "cell_type": "code",
   "execution_count": 13,
   "id": "d17fb0e5",
   "metadata": {},
   "outputs": [
    {
     "name": "stdout",
     "output_type": "stream",
     "text": [
      "False\n"
     ]
    }
   ],
   "source": [
    "# will return False since I haven't actually created the file \n",
    "print(new_file.exists())"
   ]
  },
  {
   "cell_type": "markdown",
   "id": "b00bad95",
   "metadata": {},
   "source": [
    "#### Working with directories\n",
    "When working with directories, we might need to check things like go into a directory, get a list of the contents of that directory, etc."
   ]
  },
  {
   "cell_type": "code",
   "execution_count": 14,
   "id": "22ddc399",
   "metadata": {},
   "outputs": [
    {
     "name": "stdout",
     "output_type": "stream",
     "text": [
      "True\n",
      "False\n",
      "/mnt/c/Users/prana/Data Science/.ipynb_checkpoints\n",
      "/mnt/c/Users/prana/Data Science/Deep Learning Coursera TF\n",
      "/mnt/c/Users/prana/Data Science/Deep Learning with Pytorch\n",
      "/mnt/c/Users/prana/Data Science/FastAI\n",
      "/mnt/c/Users/prana/Data Science/fastpages_blog\n",
      "/mnt/c/Users/prana/Data Science/Hands-On Machine Learning\n",
      "/mnt/c/Users/prana/Data Science/ML Practice\n",
      "/mnt/c/Users/prana/Data Science/Programming PyTorch for DL\n",
      "/mnt/c/Users/prana/Data Science/PycharmProjects\n",
      "/mnt/c/Users/prana/Data Science/pyproj\n",
      "/mnt/c/Users/prana/Data Science/Python\n",
      "/mnt/c/Users/prana/Data Science/Python Basics\n",
      "/mnt/c/Users/prana/Data Science/Python for Data Analysis\n",
      "/mnt/c/Users/prana/Data Science/pyver\n",
      "/mnt/c/Users/prana/Data Science/source\n"
     ]
    }
   ],
   "source": [
    "# get the parent directory\n",
    "parent = cwd.parent\n",
    "\n",
    "# is this a directory?\n",
    "print(parent.is_dir())\n",
    "\n",
    "# is this a file?\n",
    "print(parent.is_file())\n",
    "\n",
    "# list child directories\n",
    "for child in parent.iterdir():\n",
    "    if child.is_dir():\n",
    "        print(child)"
   ]
  },
  {
   "cell_type": "markdown",
   "id": "19f1b1a9",
   "metadata": {},
   "source": [
    "#### Working with files\n",
    "How do you find out information about the files you have?"
   ]
  },
  {
   "cell_type": "code",
   "execution_count": 15,
   "id": "d27139fb",
   "metadata": {},
   "outputs": [
    {
     "name": "stdout",
     "output_type": "stream",
     "text": [
      "demo.txt\n",
      ".txt\n",
      "Python\n",
      "702\n"
     ]
    }
   ],
   "source": [
    "from pathlib import Path\n",
    "cwd = Path.cwd()\n",
    "demo_file = Path(Path.joinpath(cwd, 'demo.txt'))\n",
    "\n",
    "# get the file name\n",
    "print(demo_file.name)\n",
    "\n",
    "# get the extension\n",
    "print(demo_file.suffix)\n",
    "\n",
    "# get the folder\n",
    "print(demo_file.parent.name)\n",
    "\n",
    "# get the size\n",
    "print(demo_file.stat().st_size)"
   ]
  },
  {
   "cell_type": "markdown",
   "id": "e0f86370",
   "metadata": {},
   "source": [
    "For reading and writing files, most of the time you use a *file stream*.  \n",
    "If you want to open a file, you create a *stream object* and you specify the name of the file you want to open, the mode, and the buffer size. The buffer size is mostly left at the default value. When using mode, by default Python assumes that you want to read the file.\n",
    "> Modes:  \n",
    "`r` - read (default)  \n",
    "`w` - truncate and write (overwrites existing file)  \n",
    "`a` - append if file exists (adds to existing file)  \n",
    "`x` - write, fail if file exists   \n",
    "`+` - updating (read/write)  \n",
    "`t` - text (default)  \n",
    "`b` - binary  "
   ]
  },
  {
   "cell_type": "markdown",
   "id": "935dcbb6",
   "metadata": {},
   "source": [
    "#### Reading from a file\n",
    "If you create a stream and say `open()`, by default it's a text file and by default it's in read mode."
   ]
  },
  {
   "cell_type": "code",
   "execution_count": 16,
   "id": "001d0255",
   "metadata": {},
   "outputs": [
    {
     "name": "stdout",
     "output_type": "stream",
     "text": [
      "True\n",
      "L\n",
      "orem ipsum dolor sit amet, consectetur adipiscing elit. Donec pharetra erat sed blandit dictum. Phasellus pharetra erat id molestie convallis. Phasellus rutrum nisl non turpis egestas pharetra. Nulla et nunc tristique arcu bibendum porttitor. In commodo vehicula porta. Phasellus neque lacus, placerat a risus id, feugiat suscipit ligula. Duis pretium, est eu elementum vulputate, elit enim sollicitudin mauris, sed mattis sem dolor in urna. Maecenas vestibulum ac elit suscipit ultrices. Donec hendrerit ante quis viverra aliquam. Cras vitae orci ac massa eleifend sollicitudin ut vel lorem. Nullam elementum elit id dolor tempus pharetra. Donec ac quam vel ex interdum pretium. Ut in vulputate leo. \n"
     ]
    }
   ],
   "source": [
    "stream = open('demo.txt')\n",
    "\n",
    "# can we read?\n",
    "print(stream.readable())\n",
    "\n",
    "# read the first character\n",
    "print(stream.read(1))\n",
    "\n",
    "# read a line\n",
    "print(stream.readline())\n",
    "\n",
    "# close the stream\n",
    "stream.close()"
   ]
  },
  {
   "cell_type": "markdown",
   "id": "66628683",
   "metadata": {},
   "source": [
    "Note that when you `readline`, it continues from where the stream left off. So once it read the first character, the `readline` reads from the next character and does not re-read the line."
   ]
  },
  {
   "cell_type": "markdown",
   "id": "5e414c78",
   "metadata": {},
   "source": [
    "#### Writing to a file\n"
   ]
  },
  {
   "cell_type": "code",
   "execution_count": 17,
   "id": "68e99977",
   "metadata": {},
   "outputs": [],
   "source": [
    "# write text\n",
    "# \"wt\" stands for \"write\" \"text\"\n",
    "stream = open('output.txt', 'wt') \n",
    "\n",
    "# write a single string\n",
    "stream.write('H')\n",
    "\n",
    "# write multiple strings\n",
    "stream.writelines(['ello', ' ', 'world'])\n",
    "\n",
    "# write a new line\n",
    "# does not create new lines by default\n",
    "stream.write('\\n')\n",
    "\n",
    "# you can pass list of strings\n",
    "# create a list of strings\n",
    "names = ['Jack ', 'John ', 'Jason ']\n",
    "\n",
    "# write list of strings\n",
    "stream.writelines(names)\n",
    "\n",
    "# close the stream (and flush data)\n",
    "stream.close()"
   ]
  },
  {
   "cell_type": "markdown",
   "id": "a62280d0",
   "metadata": {},
   "source": [
    "You're not actually writing to the file. You're writing to the stream and then the stream goes to the file. You can reposition where you are in the stream using `seek`."
   ]
  },
  {
   "cell_type": "code",
   "execution_count": 18,
   "id": "2e78cf3d",
   "metadata": {},
   "outputs": [
    {
     "data": {
      "text/plain": [
       "4"
      ]
     },
     "execution_count": 18,
     "metadata": {},
     "output_type": "execute_result"
    }
   ],
   "source": [
    "stream = open('output.txt', 'wt')\n",
    "stream.write('demo!')\n",
    "\n",
    "# put the cursor back at the start\n",
    "stream.seek(0)\n",
    "\n",
    "# overwrite the file\n",
    "# note that the 5th character (!) remains\n",
    "stream.write('cool')"
   ]
  },
  {
   "cell_type": "markdown",
   "id": "66fbb644",
   "metadata": {},
   "source": [
    "Here, \"demo\" is overwritten by \"cool\", but the fifth character \"!\" remains because you haven't overwritten that character and the final text will be \"cool!\".  \n",
    "The `flush` command flushes the data out of the stream to the file. If you do a flush and there's another piece of code out there where somebody else opens up the file, they will see the changes you made, for e.g. they will see the word \"cool!\" in the file. But this doesn't necessarily save the file.  \n",
    "When you use `close`, it will flush anything that you haven't already flushed out and close the stream, and the file is saved permanently. So a lot of times, you can just `close` the file and not call `flush` explicitly."
   ]
  },
  {
   "cell_type": "code",
   "execution_count": 19,
   "id": "13755e92",
   "metadata": {},
   "outputs": [],
   "source": [
    "# write the data to file\n",
    "stream.flush()\n",
    "\n",
    "# flush and close the stream\n",
    "stream.close() "
   ]
  },
  {
   "cell_type": "markdown",
   "id": "b90998b4",
   "metadata": {},
   "source": [
    "#### Cleaning with `with`\n",
    "\n",
    "It is really important to close the stream after you're done with it because you can get error messages if you try to open something that is already open.  \n",
    "You can use try/finally to avoid getting an error."
   ]
  },
  {
   "cell_type": "code",
   "execution_count": 20,
   "id": "84eb08bc",
   "metadata": {},
   "outputs": [],
   "source": [
    "try: \n",
    "    stream = open('output.txt', 'wt')\n",
    "    stream.write('Lorem ipsum dolar')\n",
    "finally:\n",
    "    stream.close() # this is important!"
   ]
  },
  {
   "cell_type": "markdown",
   "id": "55b7c78a",
   "metadata": {},
   "source": [
    "A better alternative to the above code is using a `with` command. `with` will take care of closing for you. It says if the write is successful, close when we're done; if it gives an error, close when we're done."
   ]
  },
  {
   "cell_type": "code",
   "execution_count": 21,
   "id": "c740c61b",
   "metadata": {},
   "outputs": [],
   "source": [
    "with open('output.txt', 'wt') as stream:\n",
    "    stream.write('Lorem ipsum dolar')"
   ]
  }
 ],
 "metadata": {
  "kernelspec": {
   "display_name": "Python 3 (ipykernel)",
   "language": "python",
   "name": "python3"
  },
  "language_info": {
   "codemirror_mode": {
    "name": "ipython",
    "version": 3
   },
   "file_extension": ".py",
   "mimetype": "text/x-python",
   "name": "python",
   "nbconvert_exporter": "python",
   "pygments_lexer": "ipython3",
   "version": "3.8.3"
  }
 },
 "nbformat": 4,
 "nbformat_minor": 5
}
