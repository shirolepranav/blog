{
 "cells": [
  {
   "cell_type": "markdown",
   "metadata": {},
   "source": [
    "# Predicting text for a Harry Potter book\n",
    "\n",
    "> We will try to predict text in context to a Harry Potter novel.\n",
    "\n",
    "- toc: true\n",
    "- branch: master\n",
    "- badges: true\n",
    "- comments: true\n",
    "- categories: [nlp, tensorflow]"
   ]
  },
  {
   "cell_type": "markdown",
   "metadata": {
    "id": "Qnkb_SHc-503"
   },
   "source": [
    "In this blog post, we will try to predict text in context to a Harry Potter novel.\n",
    "\n",
    "In text prediction, we can get a body of texts, extract the vocabulary from it, and then create datasets from that, where we make it phrase the Xs, and the next word in that phrase will be the Ys."
   ]
  },
  {
   "cell_type": "code",
   "execution_count": null,
   "metadata": {
    "id": "BOwsuGQQY9OL"
   },
   "outputs": [],
   "source": [
    "from tensorflow.keras.preprocessing.sequence import pad_sequences\n",
    "from tensorflow.keras.layers import Embedding, LSTM, Dense, Dropout, Bidirectional\n",
    "from tensorflow.keras.preprocessing.text import Tokenizer\n",
    "from tensorflow.keras.models import Sequential\n",
    "from tensorflow.keras.optimizers import Adam\n",
    "from tensorflow.keras import regularizers\n",
    "import tensorflow.keras.utils as ku \n",
    "import tensorflow as tf\n",
    "import numpy as np "
   ]
  },
  {
   "cell_type": "markdown",
   "metadata": {
    "id": "BrnzXYdIDga4"
   },
   "source": [
    "Our sample text is from the Harry Potter books. We'll create a Python list of sentences from the data and convert all of that to lowercase.    "
   ]
  },
  {
   "cell_type": "markdown",
   "metadata": {
    "id": "yOjomg3kF5se"
   },
   "source": [
    "Using the `tokenizer`, we'll call `fit_on_texts` to this corpus of work and it will create the dictionary of words and the overall corpus. This is a key-value pair, with the key being the word, and the value being the token for that word."
   ]
  },
  {
   "cell_type": "code",
   "execution_count": null,
   "metadata": {
    "id": "RH6N03GNAFxB"
   },
   "outputs": [],
   "source": [
    "data = open('/content/potter.txt').read()"
   ]
  },
  {
   "cell_type": "code",
   "execution_count": null,
   "metadata": {
    "id": "NutTFI4NF5ME"
   },
   "outputs": [],
   "source": [
    "corpus = data.lower().split(\"\\n\")"
   ]
  },
  {
   "cell_type": "code",
   "execution_count": null,
   "metadata": {
    "colab": {
     "base_uri": "https://localhost:8080/"
    },
    "id": "BYJHbsTG82EE",
    "outputId": "28a8960f-f120-40bb-a504-1172f9f2abe9"
   },
   "outputs": [
    {
     "data": {
      "text/plain": [
       "[\"mr. and mrs. dursley, of number four, privet drive, were proud to say that they were perfectly normal, thank you very much. they were the last people you'd expect to be involved in anything strange or mysterious, because they just didn't hold with such nonsense. \",\n",
       " 'mr. dursley was the director of a firm called grunnings, which made drills. he was a big, beefy man with hardly any neck, although he did have a very large mustache. mrs. dursley was thin and blonde and had nearly twice the usual amount of neck, which came in very useful as she spent so much of her time craning over garden fences, spying on the neighbors. the dursleys had a small son called dudley and in their opinion there was no finer boy anywhere. ',\n",
       " \"the dursleys had everything they wanted, but they also had a secret, and their greatest fear was that somebody would discover it. they didn't think they could bear it if anyone found out about the potters. mrs. potter was mrs. dursley's sister, but they hadn't met for several years; in fact, mrs. dursley pretended she didn't have a sister, because her sister and her good-for-nothing husband were as undursleyish as it was possible to be. the dursleys shuddered to think what the neighbors would say if the potters arrived in the street. the dursleys knew that the potters had a small son, too, but they had never even seen him. this boy was another good reason for keeping the potters away; they didn't want dudley mixing with a child like that. \",\n",
       " 'when mr. and mrs. dursley woke up on the dull, gray tuesday our story starts, there was nothing about the cloudy sky outside to suggest that strange and mysterious things would soon be happening all over the country. mr. dursley hummed as he picked out his most boring tie for work, and mrs. dursley gossiped away happily as she wrestled a screaming dudley into his high chair. ',\n",
       " 'none of them noticed a large, tawny owl flutter past the window. ',\n",
       " 'at half past eight, mr. dursley picked up his briefcase, pecked mrs. dursley on the cheek, and tried to kiss dudley good-bye but missed, because dudley was now having a tantrum and throwing his cereal at the walls. \"little tyke,\" chortled mr. dursley as he left the house. he got into his car and backed out of number four\\'s drive. ',\n",
       " \"it was on the corner of the street that he noticed the first sign of something peculiar -- a cat reading a map. for a second, mr. dursley didn't realize what he had seen -- then he jerked his head around to look again. there was a tabby cat standing on the corner of privet drive, but there wasn't a map in sight. what could he have been thinking of? it must have been a trick of the light. mr. dursley blinked and stared at the cat. it stared back. as mr. dursley drove around the corner and up the road, he watched the cat in his mirror. it was now reading the sign that said privet drive -- no, looking at the sign; cats couldn't read maps or signs. mr. dursley gave himself a little shake and put the cat out of his mind. as he drove toward town he thought of nothing except a large order of drills he was hoping to get that day. \",\n",
       " \"but on the edge of town, drills were driven out of his mind by something else. as he sat in the usual morning traffic jam, he couldn't help noticing that there seemed to be a lot of strangely dressed people about. people in cloaks. mr. dursley couldn't bear people who dressed in funny clothes -- the getups you saw on young people! he supposed this was some stupid new fashion. he drummed his fingers on the steering wheel and his eyes fell on a huddle of these weirdos standing quite close by. they were whispering excitedly together. mr. dursley was enraged to see that a couple of them weren't young at all; why, that man had to be older than he was, and wearing an emerald-green cloak! the nerve of him! but then it struck mr. dursley that this was probably some silly stunt -- these people were obviously collecting for something... \",\n",
       " 'yes, that would be it. the traffic moved on and a few minutes later, mr. dursley arrived in the grunnings parking lot, his mind back on drills. ',\n",
       " \"mr. dursley always sat with his back to the window in his office on the ninth floor. if he hadn't, he might have found it harder to concentrate on drills that morning. he didn't see the owls swoop ing past in broad daylight, though people down in the street did; they pointed and gazed open- mouthed as owl after owl sped overhead. most of them had never seen an owl even at nighttime. mr. dursley, however, had a perfectly normal, owl-free morning. he yelled at five different people. he made several important telephone calls and shouted a bit more. he was in a very good mood until lunchtime, when he thought he'd stretch his legs and walk across the road to buy himself a bun from the bakery. \"]"
      ]
     },
     "execution_count": 24,
     "metadata": {
      "tags": []
     },
     "output_type": "execute_result"
    }
   ],
   "source": [
    "#collapse-output\n",
    "corpus[:10]"
   ]
  },
  {
   "cell_type": "markdown",
   "metadata": {
    "id": "_dmbclQTF4x1"
   },
   "source": [
    "We then find the total number of words in the corpus by getting the length of its `word_index`. We add `1` to this to consider out-of-vocabulary variables."
   ]
  },
  {
   "cell_type": "code",
   "execution_count": null,
   "metadata": {
    "id": "AXYVbjSOF4Hu"
   },
   "outputs": [],
   "source": [
    "tokenizer = Tokenizer()\n",
    "tokenizer.fit_on_texts(corpus)\n",
    "total_words = len(tokenizer.word_index) + 1"
   ]
  },
  {
   "cell_type": "markdown",
   "metadata": {
    "id": "4dqT0ObTGlYI"
   },
   "source": [
    "Let's take this corpus and turn it into training data.  \n",
    "Our training Xs will be a Python list called `input_sequences`. Then for each line in the corpus, we'll generate a token list using the tokenizer's `texts_to_sequences` method. This will convert a line of text into a list of the tokens representing the words.  \n",
    "Then we'll iterate over this list of tokens and create a number of `n_gram_sequence`."
   ]
  },
  {
   "cell_type": "code",
   "execution_count": null,
   "metadata": {
    "id": "YIdhp8kYGlP5"
   },
   "outputs": [],
   "source": [
    "# create input sequences using list of tokens\n",
    "input_sequences = []\n",
    "for line in corpus:\n",
    "\ttoken_list = tokenizer.texts_to_sequences([line])[0]\n",
    "\tfor i in range(1, len(token_list)):\n",
    "\t\tn_gram_sequence = token_list[:i+1]\n",
    "\t\tinput_sequences.append(n_gram_sequence)"
   ]
  },
  {
   "cell_type": "markdown",
   "metadata": {
    "id": "QkzZAvC8GlH9"
   },
   "source": [
    "Next, we need to find the length of the longest sentence in the corpus. Then we pad all of the sequences so that they are of the same length. We'll use `padding = pre` so as to make it easier to extract the label."
   ]
  },
  {
   "cell_type": "code",
   "execution_count": null,
   "metadata": {
    "id": "eg9dlWk2Gk-8"
   },
   "outputs": [],
   "source": [
    "# pad sequences \n",
    "max_sequence_len = max([len(x) for x in input_sequences])\n",
    "input_sequences = np.array(pad_sequences(input_sequences, maxlen=max_sequence_len, padding='pre'))"
   ]
  },
  {
   "cell_type": "markdown",
   "metadata": {
    "id": "1OwBSjPeGk12"
   },
   "source": [
    "Now we turn the sequences into our Xs (input values) and Ys (labels). All we do is take all except the last character as our X, and the last character as our Y."
   ]
  },
  {
   "cell_type": "code",
   "execution_count": null,
   "metadata": {
    "id": "cmXPwKVNGkr0"
   },
   "outputs": [],
   "source": [
    "# create predictors and label\n",
    "predictors, label = input_sequences[:,:-1],input_sequences[:,-1]"
   ]
  },
  {
   "cell_type": "markdown",
   "metadata": {
    "id": "VGolwhyWGkij"
   },
   "source": [
    "Now we'll one-hot-encode our labels as this is really a classification problem, where given a sequence of qords, we can classify from the corpus what the next word would likely be. We use the keras utility function to convert a list into a categorical"
   ]
  },
  {
   "cell_type": "code",
   "execution_count": null,
   "metadata": {
    "id": "5aVKuuw0Gkah"
   },
   "outputs": [],
   "source": [
    "label = ku.to_categorical(label, num_classes=total_words)"
   ]
  },
  {
   "cell_type": "markdown",
   "metadata": {
    "id": "uCtudcXHRtrR"
   },
   "source": [
    "Now we'll create a neural network to train it with the data. It's a `Sequential` model with an `Embedding` with 128 dimensions to handle al of our words. Another parameter i.e. the `input_length` is equal to the length of the longest sentence minus 1 since we cropped off the last word of each sequence to get the label. It also has an `Bidirectional` `LSTM` with 150 units. The cell state of the LSTM will carry context along with them. The model also consists of a `Dropout` and a couple of `Dense` layers. The output layer is activated by `softmax`. Since we're doing a categorical classification, we'll set the loss to be `categorical_crossentropy`. We'll use the `adam` optimizer."
   ]
  },
  {
   "cell_type": "code",
   "execution_count": null,
   "metadata": {
    "colab": {
     "base_uri": "https://localhost:8080/"
    },
    "id": "w9vH8Y59ajYL",
    "outputId": "d79220d8-5999-4953-c679-8fa26e1d5ae0"
   },
   "outputs": [
    {
     "name": "stdout",
     "output_type": "stream",
     "text": [
      "Model: \"sequential_1\"\n",
      "_________________________________________________________________\n",
      "Layer (type)                 Output Shape              Param #   \n",
      "=================================================================\n",
      "embedding_1 (Embedding)      (None, 201, 128)          772224    \n",
      "_________________________________________________________________\n",
      "bidirectional_1 (Bidirection (None, 201, 300)          334800    \n",
      "_________________________________________________________________\n",
      "dropout_1 (Dropout)          (None, 201, 300)          0         \n",
      "_________________________________________________________________\n",
      "lstm_3 (LSTM)                (None, 100)               160400    \n",
      "_________________________________________________________________\n",
      "dense_3 (Dense)              (None, 6033)              609333    \n",
      "_________________________________________________________________\n",
      "dense_4 (Dense)              (None, 6033)              36403122  \n",
      "_________________________________________________________________\n",
      "dense_5 (Dense)              (None, 6033)              36403122  \n",
      "=================================================================\n",
      "Total params: 74,683,001\n",
      "Trainable params: 74,683,001\n",
      "Non-trainable params: 0\n",
      "_________________________________________________________________\n",
      "None\n"
     ]
    }
   ],
   "source": [
    "model = Sequential()\n",
    "model.add(Embedding(total_words, 128, input_length=max_sequence_len-1))\n",
    "model.add(Bidirectional(LSTM(150, return_sequences = True)))\n",
    "model.add(Dropout(0.2))\n",
    "model.add(LSTM(100))\n",
    "model.add(Dense(total_words, activation='relu', kernel_regularizer=regularizers.l2(0.01)))\n",
    "model.add(Dense(total_words, activation='relu', kernel_regularizer=regularizers.l2(0.01)))\n",
    "model.add(Dense(total_words, activation='softmax'))\n",
    "model.compile(loss='categorical_crossentropy', optimizer='adam', metrics=['accuracy'])\n",
    "print(model.summary())\n"
   ]
  },
  {
   "cell_type": "markdown",
   "metadata": {
    "id": "q8DAVl_nW2Zx"
   },
   "source": [
    "We will create a `callback` to stop the training when the model accuracy reaches 85%."
   ]
  },
  {
   "cell_type": "code",
   "execution_count": null,
   "metadata": {
    "id": "Z0IxtsnjVsAH"
   },
   "outputs": [],
   "source": [
    "class myCallback(tf.keras.callbacks.Callback):\n",
    "  def on_epoch_end(self, epoch, logs={}):\n",
    "    if(logs.get('loss')<0.15):\n",
    "      print(\"\\nReached 85% accuracy so cancelling training!\")\n",
    "      self.model.stop_training = True\n",
    "\n",
    "callbacks = myCallback()"
   ]
  },
  {
   "cell_type": "code",
   "execution_count": null,
   "metadata": {
    "colab": {
     "base_uri": "https://localhost:8080/"
    },
    "id": "AIg2f1HBxqof",
    "outputId": "f1343ee9-3169-4df5-a232-14f74bedd87b"
   },
   "outputs": [
    {
     "name": "stdout",
     "output_type": "stream",
     "text": [
      "Epoch 1/30\n",
      "2339/2339 [==============================] - 214s 92ms/step - loss: 4.7067 - accuracy: 0.1652\n",
      "Epoch 2/30\n",
      "2339/2339 [==============================] - 214s 91ms/step - loss: 4.6510 - accuracy: 0.1694\n",
      "Epoch 3/30\n",
      "2339/2339 [==============================] - 214s 91ms/step - loss: 4.6034 - accuracy: 0.1739\n",
      "Epoch 4/30\n",
      "2339/2339 [==============================] - 214s 91ms/step - loss: 4.5633 - accuracy: 0.1779\n",
      "Epoch 5/30\n",
      "2339/2339 [==============================] - 214s 91ms/step - loss: 4.5193 - accuracy: 0.1829\n",
      "Epoch 6/30\n",
      "2339/2339 [==============================] - 214s 91ms/step - loss: 4.4793 - accuracy: 0.1864\n",
      "Epoch 7/30\n",
      "2339/2339 [==============================] - 215s 92ms/step - loss: 4.4420 - accuracy: 0.1910\n",
      "Epoch 8/30\n",
      "2339/2339 [==============================] - 215s 92ms/step - loss: 4.4085 - accuracy: 0.1937\n",
      "Epoch 9/30\n",
      "2339/2339 [==============================] - 214s 91ms/step - loss: 4.3689 - accuracy: 0.1977\n",
      "Epoch 10/30\n",
      "2339/2339 [==============================] - 214s 91ms/step - loss: 4.3406 - accuracy: 0.2008\n",
      "Epoch 11/30\n",
      "2339/2339 [==============================] - 214s 92ms/step - loss: 4.3102 - accuracy: 0.2050\n",
      "Epoch 12/30\n",
      "2339/2339 [==============================] - 214s 92ms/step - loss: 4.2758 - accuracy: 0.2087\n",
      "Epoch 13/30\n",
      "2339/2339 [==============================] - 214s 92ms/step - loss: 4.2498 - accuracy: 0.2120\n",
      "Epoch 14/30\n",
      "2339/2339 [==============================] - 214s 92ms/step - loss: 4.2209 - accuracy: 0.2145\n",
      "Epoch 15/30\n",
      "2339/2339 [==============================] - 214s 92ms/step - loss: 4.1935 - accuracy: 0.2184\n",
      "Epoch 16/30\n",
      "2339/2339 [==============================] - 214s 92ms/step - loss: 4.1677 - accuracy: 0.2203\n",
      "Epoch 17/30\n",
      "2339/2339 [==============================] - 214s 92ms/step - loss: 4.1500 - accuracy: 0.2237\n",
      "Epoch 18/30\n",
      "2339/2339 [==============================] - 214s 92ms/step - loss: 4.1215 - accuracy: 0.2265\n",
      "Epoch 19/30\n",
      "2339/2339 [==============================] - 214s 92ms/step - loss: 4.0961 - accuracy: 0.2289\n",
      "Epoch 20/30\n",
      "2339/2339 [==============================] - 214s 92ms/step - loss: 4.0774 - accuracy: 0.2313\n",
      "Epoch 21/30\n",
      "2339/2339 [==============================] - 214s 92ms/step - loss: 4.0606 - accuracy: 0.2325\n",
      "Epoch 22/30\n",
      "2339/2339 [==============================] - 214s 92ms/step - loss: 4.0427 - accuracy: 0.2352\n",
      "Epoch 23/30\n",
      "2339/2339 [==============================] - 214s 92ms/step - loss: 4.0119 - accuracy: 0.2381\n",
      "Epoch 24/30\n",
      "2339/2339 [==============================] - 214s 91ms/step - loss: 3.9982 - accuracy: 0.2412\n",
      "Epoch 25/30\n",
      "2339/2339 [==============================] - 214s 91ms/step - loss: 3.9759 - accuracy: 0.2456\n",
      "Epoch 26/30\n",
      "2339/2339 [==============================] - 214s 91ms/step - loss: 3.9625 - accuracy: 0.2453\n",
      "Epoch 27/30\n",
      "2339/2339 [==============================] - 214s 92ms/step - loss: 3.9490 - accuracy: 0.2473\n",
      "Epoch 28/30\n",
      "2339/2339 [==============================] - 213s 91ms/step - loss: 3.9250 - accuracy: 0.2499\n",
      "Epoch 29/30\n",
      "2339/2339 [==============================] - 214s 92ms/step - loss: 3.9207 - accuracy: 0.2519\n",
      "Epoch 30/30\n",
      "2339/2339 [==============================] - 214s 92ms/step - loss: 3.8909 - accuracy: 0.2519\n"
     ]
    }
   ],
   "source": [
    "history = model.fit(predictors, label, epochs=30, verbose=1, callbacks=[callbacks])"
   ]
  },
  {
   "cell_type": "code",
   "execution_count": null,
   "metadata": {
    "colab": {
     "base_uri": "https://localhost:8080/",
     "height": 545
    },
    "id": "1fXTEO3GJ282",
    "outputId": "0685db10-551c-4b23-91b4-c552639105d4"
   },
   "outputs": [
    {
     "data": {
      "image/png": "[encoded data removed]",
      "text/plain": [
       "<Figure size 432x288 with 1 Axes>"
      ]
     },
     "metadata": {
      "needs_background": "light",
      "tags": []
     },
     "output_type": "display_data"
    },
    {
     "data": {
      "image/png": "[encoded data removed]",
      "text/plain": [
       "<Figure size 432x288 with 1 Axes>"
      ]
     },
     "metadata": {
      "needs_background": "light",
      "tags": []
     },
     "output_type": "display_data"
    }
   ],
   "source": [
    "import matplotlib.pyplot as plt\n",
    "acc = history.history['accuracy']\n",
    "loss = history.history['loss']\n",
    "\n",
    "epochs = range(len(acc))\n",
    "\n",
    "plt.plot(epochs, acc, 'b', label='Training accuracy')\n",
    "plt.title('Training accuracy')\n",
    "\n",
    "plt.figure()\n",
    "\n",
    "plt.plot(epochs, loss, 'b', label='Training Loss')\n",
    "plt.title('Training loss')\n",
    "plt.legend()\n",
    "\n",
    "plt.show()"
   ]
  },
  {
   "cell_type": "markdown",
   "metadata": {
    "id": "hdGjY7r2TELG"
   },
   "source": [
    "Now for the fun part! Let's try predicting words using this model that we trained on. We'll seed it with a text and ask the model for the next 6 words.  \n",
    "What the model is doing is that for each of the next 6 words, it's going to create token lists using tokenizer text sequences of the `seed_text`. "
   ]
  },
  {
   "cell_type": "code",
   "execution_count": null,
   "metadata": {
    "colab": {
     "base_uri": "https://localhost:8080/"
    },
    "id": "6Vc6PHgxa6Hm",
    "outputId": "05fcf284-0fb9-49ce-ed8f-6921638f3b5b"
   },
   "outputs": [
    {
     "name": "stderr",
     "output_type": "stream",
     "text": [
      "/usr/local/lib/python3.6/dist-packages/tensorflow/python/keras/engine/sequential.py:450: UserWarning: `model.predict_classes()` is deprecated and will be removed after 2021-01-01. Please use instead:* `np.argmax(model.predict(x), axis=-1)`,   if your model does multi-class classification   (e.g. if it uses a `softmax` last-layer activation).* `(model.predict(x) > 0.5).astype(\"int32\")`,   if your model does binary classification   (e.g. if it uses a `sigmoid` last-layer activation).\n",
      "  warnings.warn('`model.predict_classes()` is deprecated and '\n"
     ]
    },
    {
     "name": "stdout",
     "output_type": "stream",
     "text": [
      "Harry was trying out a new spell when he looked into the other room\n"
     ]
    }
   ],
   "source": [
    "seed_text = \"Harry was trying out a new spell when\"\n",
    "next_words = 6\n",
    "  \n",
    "for _ in range(next_words):\n",
    "\ttoken_list = tokenizer.texts_to_sequences([seed_text])[0]\n",
    "\ttoken_list = pad_sequences([token_list], maxlen=max_sequence_len-1, padding='pre')\n",
    "\tpredicted = model.predict_classes(token_list, verbose=0)\n",
    "\toutput_word = \"\"\n",
    "\tfor word, index in tokenizer.word_index.items():\n",
    "\t\tif index == predicted:\n",
    "\t\t\toutput_word = word\n",
    "\t\t\tbreak\n",
    "\tseed_text += \" \" + output_word\n",
    "print(seed_text)"
   ]
  },
  {
   "cell_type": "markdown",
   "metadata": {
    "id": "_o99Jb4OT8MK"
   },
   "source": [
    "What we see here is that the sentence predicted does make sense gramatically. But because our dataset is comparatively small and each prediction is a probability, the quality of the prediction is bound to get worse further down the line."
   ]
  },
  {
   "cell_type": "markdown",
   "metadata": {},
   "source": [
    "---"
   ]
  }
 ],
 "metadata": {
  "accelerator": "GPU",
  "colab": {
   "collapsed_sections": [],
   "name": "Potter_Prediction.ipynb",
   "provenance": []
  },
  "kernelspec": {
   "display_name": "Python 3 (ipykernel)",
   "language": "python",
   "name": "python3"
  },
  "language_info": {
   "codemirror_mode": {
    "name": "ipython",
    "version": 3
   },
   "file_extension": ".py",
   "mimetype": "text/x-python",
   "name": "python",
   "nbconvert_exporter": "python",
   "pygments_lexer": "ipython3",
   "version": "3.8.3"
  }
 },
 "nbformat": 4,
 "nbformat_minor": 1
}
